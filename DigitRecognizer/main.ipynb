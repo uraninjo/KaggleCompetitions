{
 "cells": [
  {
   "cell_type": "markdown",
   "metadata": {},
   "source": [
    "# Digit Recognizer"
   ]
  },
  {
   "cell_type": "code",
   "execution_count": null,
   "metadata": {},
   "outputs": [],
   "source": [
    "!kaggle competitions download -c digit-recognizer\n",
    "\n",
    "from zipfile import ZipFile\n",
    "import os, shutil\n",
    "try:\n",
    "    os.mkdir('data')\n",
    "except:\n",
    "    continue\n",
    "path='C:/Users/mehmu/Desktop/PyProjects/Projects/Unlocked/KaggleComp/DigitRecognizer/'\n",
    "for i in os.listdir(path):\n",
    "    if '.zip' in i:\n",
    "        shutil.move(path+i,path+'/data/')\n",
    "        print(i)\n",
    "        with ZipFile(i, 'r') as zipObj:\n",
    "            zipObj.extractall()\n",
    "        os.remove(i)\n",
    "\n"
   ]
  },
  {
   "cell_type": "code",
   "execution_count": 1,
   "metadata": {},
   "outputs": [],
   "source": [
    "import pandas as pd \n",
    "import numpy as np \n",
    "import os\n",
    "import cv2\n",
    "import matplotlib.pyplot as plt\n",
    "import warnings\n",
    "\n",
    "from tensorflow.keras.layers import Input, Lambda, Dense, Flatten, Dropout\n",
    "from tensorflow.keras.models import Model\n",
    "from tensorflow.keras.applications.vgg19 import VGG19\n",
    "from tensorflow.keras.applications.vgg19 import preprocess_input\n",
    "from tensorflow.keras.preprocessing import image, image_dataset_from_directory\n",
    "from tensorflow.keras.preprocessing.image import ImageDataGenerator\n",
    "from tensorflow.keras.models import Sequential\n",
    "from tensorflow import keras\n",
    "import tensorflow \n",
    "\n",
    "import scipy\n",
    "print(\"Num GPUs Available: \", len(tensorflow.config.list_physical_devices('GPU')))\n",
    "\n",
    "\n",
    "# Set the seed value for experiment reproduci.bility.\n",
    "seed = 1842\n",
    "tensorflow.random.set_seed(seed)\n",
    "np.random.seed(seed)\n",
    "# Turn off warnings for cleaner looking notebook\n",
    "warnings.simplefilter('ignore')\n",
    "\n",
    "\n",
    "df=pd.read_csv('data/train.csv')\n",
    "\n",
    "df\n"
   ]
  },
  {
   "cell_type": "code",
   "execution_count": null,
   "metadata": {},
   "outputs": [],
   "source": [
    "X=df.drop('label',axis=1)\n",
    "Y=df.label"
   ]
  },
  {
   "cell_type": "code",
   "execution_count": null,
   "metadata": {},
   "outputs": [],
   "source": [
    "Y=pd.get_dummies(Y,prefix='Num')"
   ]
  },
  {
   "cell_type": "code",
   "execution_count": null,
   "metadata": {},
   "outputs": [
    {
     "data": {
      "text/html": [
       "<div>\n",
       "<style scoped>\n",
       "    .dataframe tbody tr th:only-of-type {\n",
       "        vertical-align: middle;\n",
       "    }\n",
       "\n",
       "    .dataframe tbody tr th {\n",
       "        vertical-align: top;\n",
       "    }\n",
       "\n",
       "    .dataframe thead th {\n",
       "        text-align: right;\n",
       "    }\n",
       "</style>\n",
       "<table border=\"1\" class=\"dataframe\">\n",
       "  <thead>\n",
       "    <tr style=\"text-align: right;\">\n",
       "      <th></th>\n",
       "      <th>pixel0</th>\n",
       "      <th>pixel1</th>\n",
       "      <th>pixel2</th>\n",
       "      <th>pixel3</th>\n",
       "      <th>pixel4</th>\n",
       "      <th>pixel5</th>\n",
       "      <th>pixel6</th>\n",
       "      <th>pixel7</th>\n",
       "      <th>pixel8</th>\n",
       "      <th>pixel9</th>\n",
       "      <th>...</th>\n",
       "      <th>pixel774</th>\n",
       "      <th>pixel775</th>\n",
       "      <th>pixel776</th>\n",
       "      <th>pixel777</th>\n",
       "      <th>pixel778</th>\n",
       "      <th>pixel779</th>\n",
       "      <th>pixel780</th>\n",
       "      <th>pixel781</th>\n",
       "      <th>pixel782</th>\n",
       "      <th>pixel783</th>\n",
       "    </tr>\n",
       "  </thead>\n",
       "  <tbody>\n",
       "    <tr>\n",
       "      <th>count</th>\n",
       "      <td>42000.0</td>\n",
       "      <td>42000.0</td>\n",
       "      <td>42000.0</td>\n",
       "      <td>42000.0</td>\n",
       "      <td>42000.0</td>\n",
       "      <td>42000.0</td>\n",
       "      <td>42000.0</td>\n",
       "      <td>42000.0</td>\n",
       "      <td>42000.0</td>\n",
       "      <td>42000.0</td>\n",
       "      <td>...</td>\n",
       "      <td>42000.000000</td>\n",
       "      <td>42000.000000</td>\n",
       "      <td>42000.000000</td>\n",
       "      <td>42000.00000</td>\n",
       "      <td>42000.000000</td>\n",
       "      <td>42000.000000</td>\n",
       "      <td>42000.0</td>\n",
       "      <td>42000.0</td>\n",
       "      <td>42000.0</td>\n",
       "      <td>42000.0</td>\n",
       "    </tr>\n",
       "    <tr>\n",
       "      <th>mean</th>\n",
       "      <td>0.0</td>\n",
       "      <td>0.0</td>\n",
       "      <td>0.0</td>\n",
       "      <td>0.0</td>\n",
       "      <td>0.0</td>\n",
       "      <td>0.0</td>\n",
       "      <td>0.0</td>\n",
       "      <td>0.0</td>\n",
       "      <td>0.0</td>\n",
       "      <td>0.0</td>\n",
       "      <td>...</td>\n",
       "      <td>0.219286</td>\n",
       "      <td>0.117095</td>\n",
       "      <td>0.059024</td>\n",
       "      <td>0.02019</td>\n",
       "      <td>0.017238</td>\n",
       "      <td>0.002857</td>\n",
       "      <td>0.0</td>\n",
       "      <td>0.0</td>\n",
       "      <td>0.0</td>\n",
       "      <td>0.0</td>\n",
       "    </tr>\n",
       "    <tr>\n",
       "      <th>std</th>\n",
       "      <td>0.0</td>\n",
       "      <td>0.0</td>\n",
       "      <td>0.0</td>\n",
       "      <td>0.0</td>\n",
       "      <td>0.0</td>\n",
       "      <td>0.0</td>\n",
       "      <td>0.0</td>\n",
       "      <td>0.0</td>\n",
       "      <td>0.0</td>\n",
       "      <td>0.0</td>\n",
       "      <td>...</td>\n",
       "      <td>6.312890</td>\n",
       "      <td>4.633819</td>\n",
       "      <td>3.274488</td>\n",
       "      <td>1.75987</td>\n",
       "      <td>1.894498</td>\n",
       "      <td>0.414264</td>\n",
       "      <td>0.0</td>\n",
       "      <td>0.0</td>\n",
       "      <td>0.0</td>\n",
       "      <td>0.0</td>\n",
       "    </tr>\n",
       "    <tr>\n",
       "      <th>min</th>\n",
       "      <td>0.0</td>\n",
       "      <td>0.0</td>\n",
       "      <td>0.0</td>\n",
       "      <td>0.0</td>\n",
       "      <td>0.0</td>\n",
       "      <td>0.0</td>\n",
       "      <td>0.0</td>\n",
       "      <td>0.0</td>\n",
       "      <td>0.0</td>\n",
       "      <td>0.0</td>\n",
       "      <td>...</td>\n",
       "      <td>0.000000</td>\n",
       "      <td>0.000000</td>\n",
       "      <td>0.000000</td>\n",
       "      <td>0.00000</td>\n",
       "      <td>0.000000</td>\n",
       "      <td>0.000000</td>\n",
       "      <td>0.0</td>\n",
       "      <td>0.0</td>\n",
       "      <td>0.0</td>\n",
       "      <td>0.0</td>\n",
       "    </tr>\n",
       "    <tr>\n",
       "      <th>25%</th>\n",
       "      <td>0.0</td>\n",
       "      <td>0.0</td>\n",
       "      <td>0.0</td>\n",
       "      <td>0.0</td>\n",
       "      <td>0.0</td>\n",
       "      <td>0.0</td>\n",
       "      <td>0.0</td>\n",
       "      <td>0.0</td>\n",
       "      <td>0.0</td>\n",
       "      <td>0.0</td>\n",
       "      <td>...</td>\n",
       "      <td>0.000000</td>\n",
       "      <td>0.000000</td>\n",
       "      <td>0.000000</td>\n",
       "      <td>0.00000</td>\n",
       "      <td>0.000000</td>\n",
       "      <td>0.000000</td>\n",
       "      <td>0.0</td>\n",
       "      <td>0.0</td>\n",
       "      <td>0.0</td>\n",
       "      <td>0.0</td>\n",
       "    </tr>\n",
       "    <tr>\n",
       "      <th>50%</th>\n",
       "      <td>0.0</td>\n",
       "      <td>0.0</td>\n",
       "      <td>0.0</td>\n",
       "      <td>0.0</td>\n",
       "      <td>0.0</td>\n",
       "      <td>0.0</td>\n",
       "      <td>0.0</td>\n",
       "      <td>0.0</td>\n",
       "      <td>0.0</td>\n",
       "      <td>0.0</td>\n",
       "      <td>...</td>\n",
       "      <td>0.000000</td>\n",
       "      <td>0.000000</td>\n",
       "      <td>0.000000</td>\n",
       "      <td>0.00000</td>\n",
       "      <td>0.000000</td>\n",
       "      <td>0.000000</td>\n",
       "      <td>0.0</td>\n",
       "      <td>0.0</td>\n",
       "      <td>0.0</td>\n",
       "      <td>0.0</td>\n",
       "    </tr>\n",
       "    <tr>\n",
       "      <th>75%</th>\n",
       "      <td>0.0</td>\n",
       "      <td>0.0</td>\n",
       "      <td>0.0</td>\n",
       "      <td>0.0</td>\n",
       "      <td>0.0</td>\n",
       "      <td>0.0</td>\n",
       "      <td>0.0</td>\n",
       "      <td>0.0</td>\n",
       "      <td>0.0</td>\n",
       "      <td>0.0</td>\n",
       "      <td>...</td>\n",
       "      <td>0.000000</td>\n",
       "      <td>0.000000</td>\n",
       "      <td>0.000000</td>\n",
       "      <td>0.00000</td>\n",
       "      <td>0.000000</td>\n",
       "      <td>0.000000</td>\n",
       "      <td>0.0</td>\n",
       "      <td>0.0</td>\n",
       "      <td>0.0</td>\n",
       "      <td>0.0</td>\n",
       "    </tr>\n",
       "    <tr>\n",
       "      <th>max</th>\n",
       "      <td>0.0</td>\n",
       "      <td>0.0</td>\n",
       "      <td>0.0</td>\n",
       "      <td>0.0</td>\n",
       "      <td>0.0</td>\n",
       "      <td>0.0</td>\n",
       "      <td>0.0</td>\n",
       "      <td>0.0</td>\n",
       "      <td>0.0</td>\n",
       "      <td>0.0</td>\n",
       "      <td>...</td>\n",
       "      <td>254.000000</td>\n",
       "      <td>254.000000</td>\n",
       "      <td>253.000000</td>\n",
       "      <td>253.00000</td>\n",
       "      <td>254.000000</td>\n",
       "      <td>62.000000</td>\n",
       "      <td>0.0</td>\n",
       "      <td>0.0</td>\n",
       "      <td>0.0</td>\n",
       "      <td>0.0</td>\n",
       "    </tr>\n",
       "  </tbody>\n",
       "</table>\n",
       "<p>8 rows × 784 columns</p>\n",
       "</div>"
      ],
      "text/plain": [
       "        pixel0   pixel1   pixel2   pixel3   pixel4   pixel5   pixel6   pixel7  \\\n",
       "count  42000.0  42000.0  42000.0  42000.0  42000.0  42000.0  42000.0  42000.0   \n",
       "mean       0.0      0.0      0.0      0.0      0.0      0.0      0.0      0.0   \n",
       "std        0.0      0.0      0.0      0.0      0.0      0.0      0.0      0.0   \n",
       "min        0.0      0.0      0.0      0.0      0.0      0.0      0.0      0.0   \n",
       "25%        0.0      0.0      0.0      0.0      0.0      0.0      0.0      0.0   \n",
       "50%        0.0      0.0      0.0      0.0      0.0      0.0      0.0      0.0   \n",
       "75%        0.0      0.0      0.0      0.0      0.0      0.0      0.0      0.0   \n",
       "max        0.0      0.0      0.0      0.0      0.0      0.0      0.0      0.0   \n",
       "\n",
       "        pixel8   pixel9  ...      pixel774      pixel775      pixel776  \\\n",
       "count  42000.0  42000.0  ...  42000.000000  42000.000000  42000.000000   \n",
       "mean       0.0      0.0  ...      0.219286      0.117095      0.059024   \n",
       "std        0.0      0.0  ...      6.312890      4.633819      3.274488   \n",
       "min        0.0      0.0  ...      0.000000      0.000000      0.000000   \n",
       "25%        0.0      0.0  ...      0.000000      0.000000      0.000000   \n",
       "50%        0.0      0.0  ...      0.000000      0.000000      0.000000   \n",
       "75%        0.0      0.0  ...      0.000000      0.000000      0.000000   \n",
       "max        0.0      0.0  ...    254.000000    254.000000    253.000000   \n",
       "\n",
       "          pixel777      pixel778      pixel779  pixel780  pixel781  pixel782  \\\n",
       "count  42000.00000  42000.000000  42000.000000   42000.0   42000.0   42000.0   \n",
       "mean       0.02019      0.017238      0.002857       0.0       0.0       0.0   \n",
       "std        1.75987      1.894498      0.414264       0.0       0.0       0.0   \n",
       "min        0.00000      0.000000      0.000000       0.0       0.0       0.0   \n",
       "25%        0.00000      0.000000      0.000000       0.0       0.0       0.0   \n",
       "50%        0.00000      0.000000      0.000000       0.0       0.0       0.0   \n",
       "75%        0.00000      0.000000      0.000000       0.0       0.0       0.0   \n",
       "max      253.00000    254.000000     62.000000       0.0       0.0       0.0   \n",
       "\n",
       "       pixel783  \n",
       "count   42000.0  \n",
       "mean        0.0  \n",
       "std         0.0  \n",
       "min         0.0  \n",
       "25%         0.0  \n",
       "50%         0.0  \n",
       "75%         0.0  \n",
       "max         0.0  \n",
       "\n",
       "[8 rows x 784 columns]"
      ]
     },
     "execution_count": 4,
     "metadata": {},
     "output_type": "execute_result"
    }
   ],
   "source": [
    "X.describe()"
   ]
  },
  {
   "cell_type": "code",
   "execution_count": null,
   "metadata": {},
   "outputs": [],
   "source": [
    "X=X/255\n",
    "\n",
    "X=X.values.reshape(-1,28,28)"
   ]
  },
  {
   "cell_type": "code",
   "execution_count": null,
   "metadata": {},
   "outputs": [
    {
     "data": {
      "text/plain": [
       "(42000, 28, 28)"
      ]
     },
     "execution_count": 6,
     "metadata": {},
     "output_type": "execute_result"
    }
   ],
   "source": [
    "X.shape"
   ]
  },
  {
   "cell_type": "code",
   "execution_count": null,
   "metadata": {},
   "outputs": [],
   "source": [
    "from sklearn.model_selection import train_test_split\n",
    "\n",
    "X_train, X_val, y_train, y_val = train_test_split(X, Y, test_size=0.2, random_state=42)"
   ]
  },
  {
   "cell_type": "code",
   "execution_count": null,
   "metadata": {},
   "outputs": [],
   "source": [
    "validation_data=X_val,y_val"
   ]
  },
  {
   "cell_type": "markdown",
   "metadata": {},
   "source": [
    "# ANN"
   ]
  },
  {
   "cell_type": "markdown",
   "metadata": {},
   "source": [
    "İlk önce kendimize CNN kullanmadan bir mimari tasarlıyoruz.\n",
    "\n",
    "Buradaki ayarlar hypertuning ile karşılaşırılabilir. Ben sadece iki çeşit denedim."
   ]
  },
  {
   "cell_type": "code",
   "execution_count": 9,
   "metadata": {},
   "outputs": [
    {
     "name": "stdout",
     "output_type": "stream",
     "text": [
      "Epoch 1/20\n",
      "1050/1050 [==============================] - 6s 4ms/step - loss: 0.2605 - auc: 0.9941 - val_loss: 0.1421 - val_auc: 0.9968\n",
      "Epoch 2/20\n",
      "1050/1050 [==============================] - 5s 5ms/step - loss: 0.1219 - auc: 0.9975 - val_loss: 0.1790 - val_auc: 0.9950\n",
      "Epoch 3/20\n",
      "1050/1050 [==============================] - 5s 5ms/step - loss: 0.0892 - auc: 0.9982 - val_loss: 0.1489 - val_auc: 0.9955\n",
      "Epoch 4/20\n",
      "1050/1050 [==============================] - 5s 5ms/step - loss: 0.0729 - auc: 0.9987 - val_loss: 0.1218 - val_auc: 0.9966\n",
      "Epoch 5/20\n",
      "1050/1050 [==============================] - 5s 5ms/step - loss: 0.0580 - auc: 0.9991 - val_loss: 0.1514 - val_auc: 0.9953\n",
      "Epoch 6/20\n",
      "1050/1050 [==============================] - 5s 4ms/step - loss: 0.0498 - auc: 0.9993 - val_loss: 0.1498 - val_auc: 0.9955\n",
      "Epoch 7/20\n",
      "1050/1050 [==============================] - 5s 5ms/step - loss: 0.0414 - auc: 0.9993 - val_loss: 0.1295 - val_auc: 0.9959\n"
     ]
    },
    {
     "data": {
      "text/plain": [
       "<keras.callbacks.History at 0x1fc40b58bb0>"
      ]
     },
     "execution_count": 9,
     "metadata": {},
     "output_type": "execute_result"
    }
   ],
   "source": [
    "model = keras.models.Sequential([\n",
    "keras.layers.Flatten(input_shape = (28,28,1)),                             \n",
    "keras.layers.Dense(300, activation = 'relu' ),\n",
    "\n",
    "keras.layers.Dense(400, activation = 'relu' ),\n",
    "\n",
    "keras.layers.Dense(400, activation = 'relu' ),\n",
    "\n",
    "keras.layers.Dense(400, activation = 'relu' ),\n",
    "keras.layers.Dense(10, activation = 'softmax')])\n",
    "\n",
    "\n",
    "model.compile(optimizer='adam',\n",
    "loss=tensorflow.losses.CategoricalCrossentropy(),\n",
    "metrics=[keras.metrics.AUC(name='auc')])\n",
    "callback = keras.callbacks.EarlyStopping(monitor='val_loss',\n",
    "                                            patience=3,\n",
    "                                            restore_best_weights=True)\n",
    "\n",
    "model.fit(X_train,y_train, epochs=20, validation_data=(validation_data), callbacks=callback)\n",
    "#save model\n",
    "#data manipulation \n",
    "#include graphs "
   ]
  },
  {
   "cell_type": "code",
   "execution_count": 10,
   "metadata": {},
   "outputs": [
    {
     "name": "stdout",
     "output_type": "stream",
     "text": [
      "263/263 [==============================] - 1s 3ms/step - loss: 0.1218 - auc: 0.9966\n",
      "Loss:  0.12182149291038513\n",
      "Accuracy:  0.9965720772743225\n"
     ]
    }
   ],
   "source": [
    "loss, accuracy = model.evaluate(X_val,y_val)\n",
    "print(\"Loss: \", loss)\n",
    "print(\"Accuracy: \", accuracy)"
   ]
  },
  {
   "cell_type": "code",
   "execution_count": 11,
   "metadata": {},
   "outputs": [],
   "source": [
    "#simple ann with 3 layers \n",
    "model = keras.models.Sequential([\n",
    "keras.layers.experimental.preprocessing.RandomFlip('horizontal'),\n",
    "keras.layers.experimental.preprocessing.RandomContrast(0.5),    \n",
    "\n",
    "keras.layers.Flatten(input_shape = (28,28,1)),                             \n",
    "keras.layers.Dense(300, activation = 'relu' ),\n",
    "keras.layers.Dropout(0.1),\n",
    "keras.layers.Dense(400, activation = 'relu' ),\n",
    "keras.layers.Dropout(0.1),\n",
    "keras.layers.Dense(400, activation = 'relu' ),\n",
    "keras.layers.Dropout(0.1),\n",
    "keras.layers.Dense(400, activation = 'relu' ),\n",
    "keras.layers.Dense(10, activation = 'softmax')])\n",
    "\n",
    "\n",
    "model.compile(optimizer='adam',\n",
    "loss=tensorflow.losses.CategoricalCrossentropy(),\n",
    "metrics=[keras.metrics.AUC(name='auc')])\n",
    "callback = keras.callbacks.EarlyStopping(monitor='val_loss',\n",
    "                                            patience=3,\n",
    "                                            restore_best_weights=True)\n",
    "\n"
   ]
  },
  {
   "cell_type": "code",
   "execution_count": 12,
   "metadata": {},
   "outputs": [
    {
     "name": "stdout",
     "output_type": "stream",
     "text": [
      "Epoch 1/20\n",
      "1050/1050 [==============================] - 7s 6ms/step - loss: 0.5183 - auc: 0.9821 - val_loss: 0.2535 - val_auc: 0.9944\n",
      "Epoch 2/20\n",
      "1050/1050 [==============================] - 6s 6ms/step - loss: 0.2666 - auc: 0.9936 - val_loss: 0.2121 - val_auc: 0.9954\n",
      "Epoch 3/20\n",
      "1050/1050 [==============================] - 6s 6ms/step - loss: 0.2109 - auc: 0.9952 - val_loss: 0.2187 - val_auc: 0.9941\n",
      "Epoch 4/20\n",
      "1050/1050 [==============================] - 6s 6ms/step - loss: 0.1868 - auc: 0.9962 - val_loss: 0.1744 - val_auc: 0.9962\n",
      "Epoch 5/20\n",
      "1050/1050 [==============================] - 6s 6ms/step - loss: 0.1591 - auc: 0.9971 - val_loss: 0.1388 - val_auc: 0.9976\n",
      "Epoch 6/20\n",
      "1050/1050 [==============================] - 6s 6ms/step - loss: 0.1458 - auc: 0.9971 - val_loss: 0.1459 - val_auc: 0.9966\n",
      "Epoch 7/20\n",
      "1050/1050 [==============================] - 6s 6ms/step - loss: 0.1357 - auc: 0.9972 - val_loss: 0.1578 - val_auc: 0.9965\n",
      "Epoch 8/20\n",
      "1050/1050 [==============================] - 6s 5ms/step - loss: 0.1310 - auc: 0.9974 - val_loss: 0.1226 - val_auc: 0.9977\n",
      "Epoch 9/20\n",
      "1050/1050 [==============================] - 5s 5ms/step - loss: 0.1100 - auc: 0.9980 - val_loss: 0.1373 - val_auc: 0.9973\n",
      "Epoch 10/20\n",
      "1050/1050 [==============================] - 5s 5ms/step - loss: 0.1091 - auc: 0.9979 - val_loss: 0.1316 - val_auc: 0.9966\n",
      "Epoch 11/20\n",
      "1050/1050 [==============================] - 5s 5ms/step - loss: 0.1024 - auc: 0.9982 - val_loss: 0.1212 - val_auc: 0.9970\n",
      "Epoch 12/20\n",
      "1050/1050 [==============================] - 5s 5ms/step - loss: 0.0951 - auc: 0.9982 - val_loss: 0.1076 - val_auc: 0.9974\n",
      "Epoch 13/20\n",
      "1050/1050 [==============================] - 5s 5ms/step - loss: 0.0869 - auc: 0.9985 - val_loss: 0.1342 - val_auc: 0.9954\n",
      "Epoch 14/20\n",
      "1050/1050 [==============================] - 5s 5ms/step - loss: 0.0893 - auc: 0.9984 - val_loss: 0.1507 - val_auc: 0.9959\n",
      "Epoch 15/20\n",
      "1050/1050 [==============================] - 5s 5ms/step - loss: 0.0835 - auc: 0.9985 - val_loss: 0.1584 - val_auc: 0.9950\n"
     ]
    },
    {
     "data": {
      "text/plain": [
       "<keras.callbacks.History at 0x1fda2a27640>"
      ]
     },
     "execution_count": 12,
     "metadata": {},
     "output_type": "execute_result"
    }
   ],
   "source": [
    "model.fit(X_train,y_train, epochs=20, validation_data=(validation_data), callbacks=callback)\n",
    "#save model\n",
    "#data manipulation \n",
    "#include graphs "
   ]
  },
  {
   "cell_type": "code",
   "execution_count": 14,
   "metadata": {},
   "outputs": [
    {
     "name": "stdout",
     "output_type": "stream",
     "text": [
      "263/263 [==============================] - 1s 3ms/step - loss: 0.1076 - auc: 0.9974\n",
      "Loss:  0.10764996707439423\n",
      "Accuracy:  0.9973672032356262\n"
     ]
    }
   ],
   "source": [
    "loss, accuracy = model.evaluate(X_val,y_val)\n",
    "print(\"Loss: \", loss)\n",
    "print(\"Accuracy: \", accuracy)"
   ]
  },
  {
   "cell_type": "markdown",
   "metadata": {},
   "source": [
    "# CNN"
   ]
  },
  {
   "cell_type": "markdown",
   "metadata": {},
   "source": [
    "### First CNN"
   ]
  },
  {
   "cell_type": "markdown",
   "metadata": {},
   "source": [
    "Burada konvolüsyon işlemi yaparak yapay sinir ağımıza farklı bir yaklaşım sergilettiriyoruz.\n",
    "\n",
    "Üstteki gibi burada da filtrelerle oynamalar yapıp doğruluk oranının değişimine baktım."
   ]
  },
  {
   "cell_type": "code",
   "execution_count": 68,
   "metadata": {},
   "outputs": [],
   "source": [
    "def Charts(history,X='loss',Y='accuracy'):\n",
    "    plt.plot(history.history[X])\n",
    "    plt.plot(history.history[f'val_{X}'])\n",
    "    plt.title(f'model {X}')\n",
    "    plt.ylabel(f'{X}')\n",
    "    plt.xlabel('epoch')\n",
    "    plt.legend(['train', 'val'], loc='upper left')\n",
    "    plt.show()\n",
    "    \n",
    "    plt.plot(history.history[Y])\n",
    "    plt.plot(history.history[f'val_{Y}'])\n",
    "    plt.title(f'model {Y}')\n",
    "    plt.ylabel(f'{Y}')\n",
    "    plt.xlabel('epoch')\n",
    "    plt.legend(['train', 'val'], loc='upper left')\n",
    "    plt.show()"
   ]
  },
  {
   "cell_type": "code",
   "execution_count": 60,
   "metadata": {},
   "outputs": [],
   "source": [
    "#experiment with Convolutional neural net\n",
    "model = keras.models.Sequential([\n",
    "keras.layers.Conv2D(32, (3, 3), activation='relu', input_shape = (28,28,1)),\n",
    "keras.layers.MaxPooling2D(),\n",
    "keras.layers.Conv2D(64, (2, 2), activation='relu'),\n",
    "keras.layers.MaxPooling2D(),\n",
    "keras.layers.Conv2D(64, (2, 2), activation='relu'),\n",
    "keras.layers.Flatten(),\n",
    "keras.layers.Dense(100, activation='relu'),\n",
    "keras.layers.Dense(10, activation ='softmax')])"
   ]
  },
  {
   "cell_type": "code",
   "execution_count": 74,
   "metadata": {},
   "outputs": [],
   "source": [
    "model.compile(optimizer='adam',\n",
    "loss=tensorflow.losses.CategoricalCrossentropy(),\n",
    "metrics=[keras.metrics.AUC(name='auc'),'acc'])\n",
    "callback = keras.callbacks.EarlyStopping(monitor='val_loss',\n",
    "                                            patience=7,\n",
    "                                            restore_best_weights=True)\n",
    "\n",
    "\n",
    "def exponential_decay(lr0, s):\n",
    "    def exponential_decay_fn(epoch):\n",
    "        return lr0 * 0.1 **(epoch / s)\n",
    "    return exponential_decay_fn\n",
    "\n",
    "exponential_decay_fn = exponential_decay(0.01, 20)\n",
    "\n",
    "lr_scheduler = keras.callbacks.LearningRateScheduler(exponential_decay_fn)\n",
    "\n",
    "checkpoint_cb = keras.callbacks.ModelCheckpoint(\"best_model.h5\",\n",
    "                                                    save_best_only=True)\n",
    "\n",
    "early_stopping_cb = keras.callbacks.EarlyStopping(patience=6,restore_best_weights=True)"
   ]
  },
  {
   "cell_type": "code",
   "execution_count": 75,
   "metadata": {},
   "outputs": [
    {
     "name": "stdout",
     "output_type": "stream",
     "text": [
      "Epoch 1/40\n",
      "1050/1050 [==============================] - 6s 5ms/step - loss: 0.0840 - auc: 0.9973 - precision: 0.9829 - val_loss: 0.1528 - val_auc: 0.9945 - val_precision: 0.9724 - lr: 0.0100\n",
      "Epoch 2/40\n",
      "1050/1050 [==============================] - 5s 5ms/step - loss: 0.0663 - auc: 0.9981 - precision: 0.9853 - val_loss: 0.1305 - val_auc: 0.9957 - val_precision: 0.9769 - lr: 0.0089\n",
      "Epoch 3/40\n",
      "1050/1050 [==============================] - 5s 5ms/step - loss: 0.0500 - auc: 0.9986 - precision: 0.9887 - val_loss: 0.2163 - val_auc: 0.9928 - val_precision: 0.9735 - lr: 0.0079\n",
      "Epoch 4/40\n",
      "1050/1050 [==============================] - 5s 5ms/step - loss: 0.0539 - auc: 0.9985 - precision: 0.9881 - val_loss: 0.1163 - val_auc: 0.9964 - val_precision: 0.9778 - lr: 0.0071\n",
      "Epoch 5/40\n",
      "1050/1050 [==============================] - 5s 5ms/step - loss: 0.0396 - auc: 0.9989 - precision: 0.9908 - val_loss: 0.0897 - val_auc: 0.9968 - val_precision: 0.9845 - lr: 0.0063\n",
      "Epoch 6/40\n",
      "1050/1050 [==============================] - 5s 5ms/step - loss: 0.0272 - auc: 0.9994 - precision: 0.9936 - val_loss: 0.1342 - val_auc: 0.9956 - val_precision: 0.9822 - lr: 0.0056\n",
      "Epoch 7/40\n",
      "1050/1050 [==============================] - 5s 4ms/step - loss: 0.0268 - auc: 0.9993 - precision: 0.9942 - val_loss: 0.1429 - val_auc: 0.9954 - val_precision: 0.9846 - lr: 0.0050\n",
      "Epoch 8/40\n",
      "1050/1050 [==============================] - 5s 5ms/step - loss: 0.0243 - auc: 0.9992 - precision: 0.9948 - val_loss: 0.1284 - val_auc: 0.9957 - val_precision: 0.9803 - lr: 0.0045\n",
      "Epoch 9/40\n",
      "1050/1050 [==============================] - 5s 5ms/step - loss: 0.0156 - auc: 0.9996 - precision: 0.9966 - val_loss: 0.1160 - val_auc: 0.9966 - val_precision: 0.9849 - lr: 0.0040\n",
      "Epoch 10/40\n",
      "1050/1050 [==============================] - 5s 5ms/step - loss: 0.0110 - auc: 0.9998 - precision: 0.9974 - val_loss: 0.1270 - val_auc: 0.9956 - val_precision: 0.9852 - lr: 0.0035\n",
      "Epoch 11/40\n",
      "1050/1050 [==============================] - 5s 5ms/step - loss: 0.0058 - auc: 0.9999 - precision: 0.9985 - val_loss: 0.1501 - val_auc: 0.9951 - val_precision: 0.9849 - lr: 0.0032\n"
     ]
    }
   ],
   "source": [
    "history=model.fit(X_train,y_train, epochs=40, validation_data=validation_data, callbacks=[checkpoint_cb, early_stopping_cb, lr_scheduler])\n",
    "\n"
   ]
  },
  {
   "cell_type": "code",
   "execution_count": 70,
   "metadata": {},
   "outputs": [
    {
     "data": {
      "image/png": "[encoded data removed]",
      "text/plain": [
       "<Figure size 432x288 with 1 Axes>"
      ]
     },
     "metadata": {
      "needs_background": "light"
     },
     "output_type": "display_data"
    },
    {
     "data": {
      "image/png": "[encoded data removed]",
      "text/plain": [
       "<Figure size 432x288 with 1 Axes>"
      ]
     },
     "metadata": {
      "needs_background": "light"
     },
     "output_type": "display_data"
    }
   ],
   "source": [
    "Charts(history,Y='auc')"
   ]
  },
  {
   "cell_type": "code",
   "execution_count": null,
   "metadata": {},
   "outputs": [],
   "source": [
    "loss, accuracy = model.evaluate(X_val,y_val)\n",
    "print(\"Loss: \", loss)\n",
    "print(\"Accuracy: \", accuracy)"
   ]
  },
  {
   "cell_type": "markdown",
   "metadata": {},
   "source": [
    "### Second CNN"
   ]
  },
  {
   "cell_type": "code",
   "execution_count": 19,
   "metadata": {},
   "outputs": [],
   "source": [
    "model = keras.models.Sequential([\n",
    "keras.layers.Conv2D(224, (3, 3), activation='relu', input_shape = (28,28,1)),\n",
    "keras.layers.MaxPooling2D(),\n",
    "keras.layers.Conv2D(448, (2, 2), activation='relu'),\n",
    "keras.layers.MaxPooling2D(),\n",
    "keras.layers.Conv2D(448, (2, 2), activation='relu'),\n",
    "keras.layers.Flatten(),\n",
    "keras.layers.Dense(100, activation='relu'),\n",
    "keras.layers.Dense(10, activation ='softmax')])"
   ]
  },
  {
   "cell_type": "code",
   "execution_count": 20,
   "metadata": {},
   "outputs": [],
   "source": [
    "model.compile(optimizer='adam',\n",
    "loss=tensorflow.losses.CategoricalCrossentropy(),\n",
    "metrics=[keras.metrics.AUC(name='auc')])\n",
    "callback = keras.callbacks.EarlyStopping(monitor='val_loss',\n",
    "                                            patience=3,\n",
    "                                            restore_best_weights=True)"
   ]
  },
  {
   "cell_type": "code",
   "execution_count": 21,
   "metadata": {},
   "outputs": [
    {
     "name": "stdout",
     "output_type": "stream",
     "text": [
      "Epoch 1/20\n",
      "1050/1050 [==============================] - 10s 8ms/step - loss: 0.1430 - auc: 0.9975 - val_loss: 0.0537 - val_auc: 0.9994\n",
      "Epoch 2/20\n",
      "1050/1050 [==============================] - 9s 8ms/step - loss: 0.0488 - auc: 0.9992 - val_loss: 0.0422 - val_auc: 0.9992\n",
      "Epoch 3/20\n",
      "1050/1050 [==============================] - 8s 8ms/step - loss: 0.0352 - auc: 0.9995 - val_loss: 0.0311 - val_auc: 0.9996\n",
      "Epoch 4/20\n",
      "1050/1050 [==============================] - 9s 8ms/step - loss: 0.0271 - auc: 0.9996 - val_loss: 0.0402 - val_auc: 0.9994\n",
      "Epoch 5/20\n",
      "1050/1050 [==============================] - 9s 8ms/step - loss: 0.0211 - auc: 0.9998 - val_loss: 0.0470 - val_auc: 0.9989\n",
      "Epoch 6/20\n",
      "1050/1050 [==============================] - 9s 9ms/step - loss: 0.0163 - auc: 0.9998 - val_loss: 0.0531 - val_auc: 0.9983\n"
     ]
    },
    {
     "data": {
      "text/plain": [
       "<keras.callbacks.History at 0x1fdc332fa30>"
      ]
     },
     "execution_count": 21,
     "metadata": {},
     "output_type": "execute_result"
    }
   ],
   "source": [
    "model.fit(X_train,y_train, epochs=20, validation_data=(validation_data), callbacks=callback)\n",
    "#save model\n",
    "#early stopping"
   ]
  },
  {
   "cell_type": "code",
   "execution_count": 22,
   "metadata": {},
   "outputs": [
    {
     "name": "stdout",
     "output_type": "stream",
     "text": [
      "263/263 [==============================] - 1s 4ms/step - loss: 0.0311 - auc: 0.9996\n",
      "Loss:  0.031132783740758896\n",
      "Accuracy:  0.9995538592338562\n"
     ]
    }
   ],
   "source": [
    "loss, accuracy = model.evaluate(X_val,y_val)\n",
    "print(\"Loss: \", loss)\n",
    "print(\"Accuracy: \", accuracy)"
   ]
  },
  {
   "cell_type": "markdown",
   "metadata": {},
   "source": [
    "## Best Model"
   ]
  },
  {
   "cell_type": "code",
   "execution_count": 43,
   "metadata": {},
   "outputs": [],
   "source": [
    "#experiment with Convolutional neural net\n",
    "model = keras.models.Sequential([\n",
    "keras.layers.Conv2D(32, (3, 3), activation='relu', input_shape = [28,28,1]),\n",
    "keras.layers.MaxPooling2D(),\n",
    "keras.layers.Conv2D(32, (2, 2), activation='relu'),\n",
    "keras.layers.MaxPooling2D(),\n",
    "\n",
    "keras.layers.SeparableConv2D(64, 3, activation='relu', padding='same'),\n",
    "keras.layers.SeparableConv2D(64, 3, activation='relu', padding='same'),\n",
    "keras.layers.BatchNormalization(),\n",
    "keras.layers.MaxPool2D(),\n",
    "\n",
    "keras.layers.SeparableConv2D(128, 3, activation='relu', padding='same'),\n",
    "keras.layers.SeparableConv2D(128, 3, activation='relu', padding='same'),\n",
    "keras.layers.BatchNormalization(),\n",
    "keras.layers.MaxPool2D(),\n",
    "keras.layers.Dropout(0.2),\n",
    "\n",
    "\n",
    "\n",
    "keras.layers.Flatten(),\n",
    "\n",
    "keras.layers.Dense(512, activation='relu'),\n",
    "keras.layers.BatchNormalization(),\n",
    "keras.layers.Dropout(0.7),\n",
    "\n",
    "keras.layers.Dense(128, activation='relu'),\n",
    "keras.layers.BatchNormalization(),\n",
    "keras.layers.Dropout(0.5),\n",
    "\n",
    "keras.layers.Dense(64, activation='relu'),\n",
    "keras.layers.BatchNormalization(),\n",
    "keras.layers.Dropout(0.3),\n",
    "\n",
    "keras.layers.Dense(10, activation ='softmax')])\n",
    "\n"
   ]
  },
  {
   "cell_type": "code",
   "execution_count": 44,
   "metadata": {},
   "outputs": [],
   "source": [
    "model.compile(optimizer='adam',\n",
    "loss=tensorflow.losses.CategoricalCrossentropy(),\n",
    "metrics=[keras.metrics.AUC(name='auc')])"
   ]
  },
  {
   "cell_type": "code",
   "execution_count": 45,
   "metadata": {},
   "outputs": [],
   "source": [
    "def exponential_decay(lr0, s):\n",
    "    def exponential_decay_fn(epoch):\n",
    "        return lr0 * 0.1 **(epoch / s)\n",
    "    return exponential_decay_fn\n",
    "\n",
    "exponential_decay_fn = exponential_decay(0.01, 20)\n",
    "\n",
    "lr_scheduler = keras.callbacks.LearningRateScheduler(exponential_decay_fn)\n",
    "\n",
    "checkpoint_cb = keras.callbacks.ModelCheckpoint(\"best_model.h5\",\n",
    "                                                    save_best_only=True)\n",
    "\n",
    "early_stopping_cb = keras.callbacks.EarlyStopping(patience=6,restore_best_weights=True)"
   ]
  },
  {
   "cell_type": "code",
   "execution_count": 46,
   "metadata": {},
   "outputs": [
    {
     "name": "stdout",
     "output_type": "stream",
     "text": [
      "Epoch 1/40\n",
      "1050/1050 [==============================] - 11s 9ms/step - loss: 0.6823 - auc: 0.9707 - val_loss: 0.4755 - val_auc: 0.9816 - lr: 0.0100\n",
      "Epoch 2/40\n",
      "1050/1050 [==============================] - 9s 8ms/step - loss: 0.2067 - auc: 0.9942 - val_loss: 0.1481 - val_auc: 0.9950 - lr: 0.0089\n",
      "Epoch 3/40\n",
      "1050/1050 [==============================] - 9s 9ms/step - loss: 0.1586 - auc: 0.9952 - val_loss: 0.1384 - val_auc: 0.9952 - lr: 0.0079\n",
      "Epoch 4/40\n",
      "1050/1050 [==============================] - 10s 9ms/step - loss: 0.1295 - auc: 0.9961 - val_loss: 0.1303 - val_auc: 0.9958 - lr: 0.0071\n",
      "Epoch 5/40\n",
      "1050/1050 [==============================] - 10s 9ms/step - loss: 0.1074 - auc: 0.9970 - val_loss: 0.0974 - val_auc: 0.9962 - lr: 0.0063\n",
      "Epoch 6/40\n",
      "1050/1050 [==============================] - 9s 9ms/step - loss: 0.0892 - auc: 0.9975 - val_loss: 0.0704 - val_auc: 0.9972 - lr: 0.0056\n",
      "Epoch 7/40\n",
      "1050/1050 [==============================] - 8s 8ms/step - loss: 0.0773 - auc: 0.9977 - val_loss: 0.0782 - val_auc: 0.9970 - lr: 0.0050\n",
      "Epoch 8/40\n",
      "1050/1050 [==============================] - 8s 8ms/step - loss: 0.0724 - auc: 0.9978 - val_loss: 0.0754 - val_auc: 0.9978 - lr: 0.0045\n",
      "Epoch 9/40\n",
      "1050/1050 [==============================] - 8s 8ms/step - loss: 0.0616 - auc: 0.9983 - val_loss: 0.0529 - val_auc: 0.9979 - lr: 0.0040\n",
      "Epoch 10/40\n",
      "1050/1050 [==============================] - 8s 8ms/step - loss: 0.0550 - auc: 0.9985 - val_loss: 0.0681 - val_auc: 0.9973 - lr: 0.0035\n",
      "Epoch 11/40\n",
      "1050/1050 [==============================] - 8s 8ms/step - loss: 0.0452 - auc: 0.9987 - val_loss: 0.0624 - val_auc: 0.9975 - lr: 0.0032\n",
      "Epoch 12/40\n",
      "1050/1050 [==============================] - 9s 8ms/step - loss: 0.0419 - auc: 0.9987 - val_loss: 0.0460 - val_auc: 0.9976 - lr: 0.0028\n",
      "Epoch 13/40\n",
      "1050/1050 [==============================] - 9s 9ms/step - loss: 0.0341 - auc: 0.9991 - val_loss: 0.0487 - val_auc: 0.9980 - lr: 0.0025\n",
      "Epoch 14/40\n",
      "1050/1050 [==============================] - 9s 9ms/step - loss: 0.0298 - auc: 0.9992 - val_loss: 0.0512 - val_auc: 0.9978 - lr: 0.0022\n",
      "Epoch 15/40\n",
      "1050/1050 [==============================] - 9s 9ms/step - loss: 0.0285 - auc: 0.9992 - val_loss: 0.0438 - val_auc: 0.9982 - lr: 0.0020\n",
      "Epoch 16/40\n",
      "1050/1050 [==============================] - 9s 9ms/step - loss: 0.0223 - auc: 0.9994 - val_loss: 0.0438 - val_auc: 0.9980 - lr: 0.0018\n",
      "Epoch 17/40\n",
      "1050/1050 [==============================] - 9s 9ms/step - loss: 0.0214 - auc: 0.9994 - val_loss: 0.0506 - val_auc: 0.9978 - lr: 0.0016\n",
      "Epoch 18/40\n",
      "1050/1050 [==============================] - 8s 8ms/step - loss: 0.0203 - auc: 0.9994 - val_loss: 0.0536 - val_auc: 0.9975 - lr: 0.0014\n",
      "Epoch 19/40\n",
      "1050/1050 [==============================] - 9s 8ms/step - loss: 0.0178 - auc: 0.9996 - val_loss: 0.0484 - val_auc: 0.9977 - lr: 0.0013\n",
      "Epoch 20/40\n",
      "1050/1050 [==============================] - 9s 9ms/step - loss: 0.0133 - auc: 0.9996 - val_loss: 0.0468 - val_auc: 0.9977 - lr: 0.0011\n",
      "Epoch 21/40\n",
      "1050/1050 [==============================] - 10s 9ms/step - loss: 0.0114 - auc: 0.9997 - val_loss: 0.0454 - val_auc: 0.9979 - lr: 0.0010\n"
     ]
    },
    {
     "data": {
      "text/plain": [
       "<keras.callbacks.History at 0x1fd89941150>"
      ]
     },
     "execution_count": 46,
     "metadata": {},
     "output_type": "execute_result"
    }
   ],
   "source": [
    "model.fit(X_train,y_train, epochs=40, validation_data=validation_data, callbacks=[checkpoint_cb, early_stopping_cb, lr_scheduler])\n",
    "#save model\n",
    "#early stopping"
   ]
  },
  {
   "cell_type": "markdown",
   "metadata": {},
   "source": [
    "## Submission"
   ]
  },
  {
   "cell_type": "code",
   "execution_count": 77,
   "metadata": {},
   "outputs": [
    {
     "name": "stdout",
     "output_type": "stream",
     "text": [
      "875/875 [==============================] - 1s 2ms/step\n"
     ]
    }
   ],
   "source": [
    "df_test=pd.read_csv('test.csv')\n",
    "df_test=df_test/255\n",
    "\n",
    "df_test=df_test.values.reshape(-1,28,28)\n",
    "\n",
    "y_pred=model.predict(df_test)"
   ]
  },
  {
   "cell_type": "code",
   "execution_count": 78,
   "metadata": {},
   "outputs": [],
   "source": [
    "y_pred=pd.DataFrame(np.argmax(y_pred,axis=1),columns=['Label'])\n",
    "submission = pd.read_csv(\"sample_submission.csv\")\n",
    "submission[\"Label\"] = y_pred\n",
    "submission.to_csv('submission.csv', index=False)"
   ]
  },
  {
   "cell_type": "code",
   "execution_count": 79,
   "metadata": {},
   "outputs": [
    {
     "name": "stdout",
     "output_type": "stream",
     "text": [
      "Successfully submitted to Digit Recognizer\n"
     ]
    },
    {
     "name": "stderr",
     "output_type": "stream",
     "text": [
      "\n",
      "  0%|          | 0.00/235k [00:00<?, ?B/s]\n",
      "  3%|▎         | 8.00k/235k [00:00<00:03, 73.2kB/s]\n",
      " 88%|████████▊ | 208k/235k [00:00<00:00, 931kB/s]  \n",
      "100%|██████████| 235k/235k [00:02<00:00, 112kB/s]\n"
     ]
    }
   ],
   "source": [
    "!kaggle competitions submit -c digit-recognizer -f submission.csv -m \"\""
   ]
  },
  {
   "cell_type": "code",
   "execution_count": null,
   "metadata": {},
   "outputs": [],
   "source": []
  }
 ],
 "metadata": {
  "kernelspec": {
   "display_name": "Python 3.10.5 64-bit (system)",
   "language": "python",
   "name": "python3"
  },
  "language_info": {
   "codemirror_mode": {
    "name": "ipython",
    "version": 3
   },
   "file_extension": ".py",
   "mimetype": "text/x-python",
   "name": "python",
   "nbconvert_exporter": "python",
   "pygments_lexer": "ipython3",
   "version": "3.10.5"
  },
  "orig_nbformat": 4,
  "vscode": {
   "interpreter": {
    "hash": "a7d98f6a89a2cc2c3b451a8bb432008958aa7c83c5ffc793c3e15255d944d91d"
   }
  }
 },
 "nbformat": 4,
 "nbformat_minor": 2
}
