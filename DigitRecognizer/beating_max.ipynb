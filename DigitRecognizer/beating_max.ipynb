{
 "cells": [
  {
   "cell_type": "markdown",
   "metadata": {},
   "source": [
    "### Preprocessing"
   ]
  },
  {
   "cell_type": "code",
   "execution_count": 2,
   "metadata": {},
   "outputs": [
    {
     "name": "stdout",
     "output_type": "stream",
     "text": [
      "Num GPUs Available:  1\n"
     ]
    }
   ],
   "source": [
    "import pandas as pd \n",
    "import numpy as np \n",
    "import os\n",
    "import cv2\n",
    "import matplotlib.pyplot as plt\n",
    "import warnings\n",
    "\n",
    "from tensorflow.keras.layers import Input, Lambda, Dense, Flatten, Dropout\n",
    "from tensorflow.keras.models import Model\n",
    "from tensorflow.keras.applications.vgg19 import VGG19\n",
    "from tensorflow.keras.applications.vgg19 import preprocess_input\n",
    "from tensorflow.keras.preprocessing import image, image_dataset_from_directory\n",
    "from tensorflow.keras.preprocessing.image import ImageDataGenerator\n",
    "from tensorflow.keras.models import Sequential\n",
    "from tensorflow import keras\n",
    "import tensorflow \n",
    "\n",
    "import scipy\n",
    "print(\"Num GPUs Available: \", len(tensorflow.config.list_physical_devices('GPU')))\n",
    "\n",
    "\n",
    "# Set the seed value for experiment reproduci.bility.\n",
    "seed = 1842\n",
    "tensorflow.random.set_seed(seed)\n",
    "np.random.seed(seed)\n",
    "# Turn off warnings for cleaner looking notebook\n",
    "warnings.simplefilter('ignore')\n",
    "\n",
    "\n",
    "df=pd.read_csv('data/train.csv')\n",
    "\n",
    "X=df.drop('label',axis=1)\n",
    "Y=df.label\n",
    "Y=pd.get_dummies(Y,prefix='Num')\n",
    "\n",
    "X=X/255\n",
    "\n",
    "X=X.values.reshape(-1,28,28)\n",
    "\n",
    "from sklearn.model_selection import train_test_split\n",
    "\n",
    "X_train, X_val, y_train, y_val = train_test_split(X, Y, test_size=0.2, random_state=42)\n",
    "\n",
    "validation_data=X_val,y_val"
   ]
  },
  {
   "cell_type": "code",
   "execution_count": 30,
   "metadata": {},
   "outputs": [],
   "source": [
    "def Charts(history,X='loss',Y='AUC',Z='Accuracy'):\n",
    "    plt.plot(history.history[X])\n",
    "    plt.plot(history.history[f'val_{X}'])\n",
    "    plt.title(f'model {X}')\n",
    "    plt.ylabel(f'{X}')\n",
    "    plt.xlabel('epoch')\n",
    "    plt.legend(['train', 'val'], loc='upper left')\n",
    "    plt.show()\n",
    "    \n",
    "    plt.plot(history.history[Y])\n",
    "    plt.plot(history.history[f'val_{Y}'])\n",
    "    plt.title(f'model {Y}')\n",
    "    plt.ylabel(f'{Y}')\n",
    "    plt.xlabel('epoch')\n",
    "    plt.legend(['train', 'val'], loc='upper left')\n",
    "    plt.show()\n",
    "\n",
    "    plt.plot(history.history[Z])\n",
    "    plt.plot(history.history[f'val_{Z}'])\n",
    "    plt.title(f'model {Z}')\n",
    "    plt.ylabel(f'{Z}')\n",
    "    plt.xlabel('epoch')\n",
    "    plt.legend(['train', 'val'], loc='upper left')\n",
    "    plt.show()"
   ]
  },
  {
   "cell_type": "markdown",
   "metadata": {},
   "source": [
    "### Model"
   ]
  },
  {
   "cell_type": "markdown",
   "metadata": {},
   "source": [
    "#### İlk CNN Score: 0.9808333516120911"
   ]
  },
  {
   "cell_type": "code",
   "execution_count": 63,
   "metadata": {},
   "outputs": [],
   "source": [
    "#experiment with Convolutional neural net\n",
    "model = keras.models.Sequential([\n",
    "\n",
    "keras.layers.Conv2D(32, (3, 3), padding='same', activation='relu', input_shape = (28,28,1)),\n",
    "keras.layers.Conv2D(32, (3, 3), padding='same', activation='relu'),\n",
    "keras.layers.Conv2D(32, (3, 3), padding='same', activation='relu'),\n",
    "keras.layers.MaxPooling2D(),\n",
    "keras.layers.BatchNormalization(),\n",
    "\n",
    "keras.layers.Conv2D(64, (2, 2), activation='relu'),\n",
    "keras.layers.Conv2D(64, (2, 2), activation='relu'),\n",
    "keras.layers.Conv2D(64, (2, 2), activation='relu'),\n",
    "keras.layers.MaxPooling2D(),\n",
    "keras.layers.BatchNormalization(),\n",
    "\n",
    "keras.layers.Conv2D(128, (2, 2), activation='relu'),\n",
    "keras.layers.Conv2D(128, (2, 2), activation='relu'),\n",
    "keras.layers.Conv2D(128, (2, 2), activation='relu'),\n",
    "keras.layers.MaxPooling2D(),\n",
    "keras.layers.BatchNormalization(),\n",
    "\n",
    "keras.layers.Flatten(),\n",
    "keras.layers.Dropout(0.3),\n",
    "keras.layers.Dense(512, activation='relu'),\n",
    "keras.layers.Dropout(0.25),\n",
    "keras.layers.Dense(10, activation ='softmax')])"
   ]
  },
  {
   "cell_type": "markdown",
   "metadata": {},
   "source": [
    "#### İkinci CNN"
   ]
  },
  {
   "cell_type": "code",
   "execution_count": 13,
   "metadata": {},
   "outputs": [],
   "source": [
    "#experiment with Convolutional neural net\n",
    "model = keras.models.Sequential([\n",
    "keras.layers.Conv2D(32, (3, 3), activation='relu', input_shape = [28,28,1]),\n",
    "keras.layers.MaxPooling2D(),\n",
    "keras.layers.Conv2D(32, (2, 2), activation='relu'),\n",
    "keras.layers.MaxPooling2D(),\n",
    "\n",
    "keras.layers.SeparableConv2D(64, 3, activation='relu', padding='same'),\n",
    "keras.layers.SeparableConv2D(64, 3, activation='relu', padding='same'),\n",
    "keras.layers.BatchNormalization(),\n",
    "keras.layers.MaxPool2D(),\n",
    "\n",
    "keras.layers.SeparableConv2D(128, 3, activation='relu', padding='same'),\n",
    "keras.layers.SeparableConv2D(128, 3, activation='relu', padding='same'),\n",
    "keras.layers.BatchNormalization(),\n",
    "keras.layers.MaxPool2D(),\n",
    "keras.layers.Dropout(0.2),\n",
    "\n",
    "keras.layers.Flatten(),\n",
    "\n",
    "keras.layers.Dense(512, activation='relu'),\n",
    "keras.layers.BatchNormalization(),\n",
    "keras.layers.Dropout(0.7),\n",
    "\n",
    "keras.layers.Dense(128, activation='relu'),\n",
    "keras.layers.BatchNormalization(),\n",
    "keras.layers.Dropout(0.5),\n",
    "\n",
    "keras.layers.Dense(64, activation='relu'),\n",
    "keras.layers.BatchNormalization(),\n",
    "keras.layers.Dropout(0.3),\n",
    "\n",
    "keras.layers.Dense(10, activation ='softmax')])\n",
    "\n"
   ]
  },
  {
   "cell_type": "markdown",
   "metadata": {},
   "source": [
    "#### Compile/Training "
   ]
  },
  {
   "cell_type": "code",
   "execution_count": 64,
   "metadata": {},
   "outputs": [],
   "source": [
    "model.compile(optimizer='adam',\n",
    "loss=tensorflow.losses.CategoricalCrossentropy(),\n",
    "metrics=[keras.metrics.AUC(name='auc'),'acc'])\n",
    "callback = keras.callbacks.EarlyStopping(monitor='val_acc',\n",
    "                                            patience=7,\n",
    "                                            restore_best_weights=True)\n",
    "\n",
    "\n",
    "def exponential_decay(lr0, s):\n",
    "    def exponential_decay_fn(epoch):\n",
    "        return lr0 * 0.1 **(epoch / s)\n",
    "    return exponential_decay_fn\n",
    "\n",
    "exponential_decay_fn = exponential_decay(0.01, 20)\n",
    "\n",
    "lr_scheduler = keras.callbacks.LearningRateScheduler(exponential_decay_fn)\n",
    "\n",
    "checkpoint_cb = keras.callbacks.ModelCheckpoint(\"best_model.h5\",\n",
    "                                                    save_best_only=True)\n",
    "\n",
    "early_stopping_cb = keras.callbacks.EarlyStopping(patience=6,restore_best_weights=True)"
   ]
  },
  {
   "cell_type": "code",
   "execution_count": 65,
   "metadata": {},
   "outputs": [
    {
     "name": "stdout",
     "output_type": "stream",
     "text": [
      "Epoch 1/40\n",
      "1050/1050 [==============================] - 9s 7ms/step - loss: 0.3197 - auc: 0.9902 - acc: 0.9069 - val_loss: 0.9343 - val_auc: 0.9901 - val_acc: 0.9413 - lr: 0.0100\n",
      "Epoch 2/40\n",
      "1050/1050 [==============================] - 8s 7ms/step - loss: 0.1473 - auc: 0.9964 - acc: 0.9589 - val_loss: 0.1326 - val_auc: 0.9957 - val_acc: 0.9654 - lr: 0.0089\n",
      "Epoch 3/40\n",
      "1050/1050 [==============================] - 8s 8ms/step - loss: 0.1130 - auc: 0.9970 - acc: 0.9690 - val_loss: 0.1007 - val_auc: 0.9979 - val_acc: 0.9831 - lr: 0.0079\n",
      "Epoch 4/40\n",
      "1050/1050 [==============================] - 8s 8ms/step - loss: 0.0955 - auc: 0.9975 - acc: 0.9745 - val_loss: 0.0574 - val_auc: 0.9987 - val_acc: 0.9852 - lr: 0.0071\n",
      "Epoch 5/40\n",
      "1050/1050 [==============================] - 8s 8ms/step - loss: 0.0793 - auc: 0.9982 - acc: 0.9786 - val_loss: 0.3575 - val_auc: 0.9964 - val_acc: 0.9744 - lr: 0.0063\n",
      "Epoch 6/40\n",
      "1050/1050 [==============================] - 8s 8ms/step - loss: 0.0719 - auc: 0.9983 - acc: 0.9821 - val_loss: 0.0425 - val_auc: 0.9991 - val_acc: 0.9887 - lr: 0.0056\n",
      "Epoch 7/40\n",
      "1050/1050 [==============================] - 9s 9ms/step - loss: 0.0589 - auc: 0.9985 - acc: 0.9843 - val_loss: 0.0817 - val_auc: 0.9980 - val_acc: 0.9781 - lr: 0.0050\n",
      "Epoch 8/40\n",
      "1050/1050 [==============================] - 10s 9ms/step - loss: 0.0497 - auc: 0.9989 - acc: 0.9872 - val_loss: 0.0355 - val_auc: 0.9994 - val_acc: 0.9907 - lr: 0.0045\n",
      "Epoch 9/40\n",
      "1050/1050 [==============================] - 9s 9ms/step - loss: 0.0447 - auc: 0.9990 - acc: 0.9880 - val_loss: 0.0503 - val_auc: 0.9990 - val_acc: 0.9869 - lr: 0.0040\n",
      "Epoch 10/40\n",
      "1050/1050 [==============================] - 9s 8ms/step - loss: 0.0390 - auc: 0.9992 - acc: 0.9894 - val_loss: 0.3374 - val_auc: 0.9992 - val_acc: 0.9911 - lr: 0.0035\n",
      "Epoch 11/40\n",
      "1050/1050 [==============================] - 9s 9ms/step - loss: 0.0296 - auc: 0.9994 - acc: 0.9916 - val_loss: 0.0548 - val_auc: 0.9986 - val_acc: 0.9845 - lr: 0.0032\n",
      "Epoch 12/40\n",
      "1050/1050 [==============================] - 9s 9ms/step - loss: 0.0319 - auc: 0.9992 - acc: 0.9918 - val_loss: 0.0343 - val_auc: 0.9993 - val_acc: 0.9915 - lr: 0.0028\n",
      "Epoch 13/40\n",
      "1050/1050 [==============================] - 10s 9ms/step - loss: 0.0227 - auc: 0.9996 - acc: 0.9933 - val_loss: 0.0286 - val_auc: 0.9991 - val_acc: 0.9914 - lr: 0.0025\n",
      "Epoch 14/40\n",
      "1050/1050 [==============================] - 9s 9ms/step - loss: 0.0201 - auc: 0.9997 - acc: 0.9942 - val_loss: 0.0783 - val_auc: 0.9987 - val_acc: 0.9910 - lr: 0.0022\n",
      "Epoch 15/40\n",
      "1050/1050 [==============================] - 10s 9ms/step - loss: 0.0186 - auc: 0.9997 - acc: 0.9946 - val_loss: 0.0273 - val_auc: 0.9991 - val_acc: 0.9927 - lr: 0.0020\n",
      "Epoch 16/40\n",
      "1050/1050 [==============================] - 9s 9ms/step - loss: 0.0131 - auc: 0.9998 - acc: 0.9961 - val_loss: 0.0288 - val_auc: 0.9994 - val_acc: 0.9930 - lr: 0.0018\n",
      "Epoch 17/40\n",
      "1050/1050 [==============================] - 10s 9ms/step - loss: 0.0134 - auc: 0.9997 - acc: 0.9961 - val_loss: 0.0313 - val_auc: 0.9988 - val_acc: 0.9927 - lr: 0.0016\n",
      "Epoch 18/40\n",
      "1050/1050 [==============================] - 12s 11ms/step - loss: 0.0101 - auc: 0.9998 - acc: 0.9971 - val_loss: 0.0320 - val_auc: 0.9991 - val_acc: 0.9919 - lr: 0.0014\n",
      "Epoch 19/40\n",
      "1050/1050 [==============================] - 11s 10ms/step - loss: 0.0098 - auc: 0.9998 - acc: 0.9973 - val_loss: 0.0252 - val_auc: 0.9993 - val_acc: 0.9935 - lr: 0.0013\n",
      "Epoch 20/40\n",
      "1050/1050 [==============================] - 11s 10ms/step - loss: 0.0074 - auc: 0.9999 - acc: 0.9978 - val_loss: 0.0322 - val_auc: 0.9989 - val_acc: 0.9929 - lr: 0.0011\n",
      "Epoch 21/40\n",
      "1050/1050 [==============================] - 11s 11ms/step - loss: 0.0077 - auc: 0.9999 - acc: 0.9977 - val_loss: 0.0258 - val_auc: 0.9992 - val_acc: 0.9944 - lr: 0.0010\n",
      "Epoch 22/40\n",
      "1050/1050 [==============================] - 10s 10ms/step - loss: 0.0051 - auc: 1.0000 - acc: 0.9984 - val_loss: 0.0267 - val_auc: 0.9991 - val_acc: 0.9942 - lr: 8.9125e-04\n",
      "Epoch 23/40\n",
      "1050/1050 [==============================] - 10s 10ms/step - loss: 0.0063 - auc: 0.9999 - acc: 0.9982 - val_loss: 0.0257 - val_auc: 0.9992 - val_acc: 0.9942 - lr: 7.9433e-04\n",
      "Epoch 24/40\n",
      "1050/1050 [==============================] - 11s 11ms/step - loss: 0.0040 - auc: 0.9999 - acc: 0.9988 - val_loss: 0.0260 - val_auc: 0.9989 - val_acc: 0.9946 - lr: 7.0795e-04\n",
      "Epoch 25/40\n",
      "1050/1050 [==============================] - 11s 10ms/step - loss: 0.0025 - auc: 1.0000 - acc: 0.9993 - val_loss: 0.0276 - val_auc: 0.9988 - val_acc: 0.9946 - lr: 6.3096e-04\n"
     ]
    }
   ],
   "source": [
    "history=model.fit(X_train,y_train, epochs=40, validation_data=validation_data, callbacks=[checkpoint_cb, early_stopping_cb, lr_scheduler])"
   ]
  },
  {
   "cell_type": "code",
   "execution_count": 66,
   "metadata": {},
   "outputs": [
    {
     "name": "stdout",
     "output_type": "stream",
     "text": [
      "263/263 [==============================] - 2s 5ms/step - loss: 0.0252 - auc: 0.9993 - acc: 0.9935\n",
      "Loss:  0.025196395814418793\n",
      "AUC:  0.9993237257003784\n",
      "Accuracy:  0.9934523701667786\n"
     ]
    }
   ],
   "source": [
    "from tensorflow.keras.models import load_model\n",
    "model=load_model(\n",
    "    \"best_model.h5\", custom_objects=None, compile=True, options=None\n",
    ")\n",
    "loss, auc, accuracy = model.evaluate(X_val,y_val)\n",
    "print(\"Loss: \", loss)\n",
    "print(\"AUC: \", auc)\n",
    "print(\"Accuracy: \", accuracy)"
   ]
  },
  {
   "cell_type": "markdown",
   "metadata": {},
   "source": [
    "### Submission"
   ]
  },
  {
   "cell_type": "code",
   "execution_count": 67,
   "metadata": {},
   "outputs": [
    {
     "name": "stdout",
     "output_type": "stream",
     "text": [
      "875/875 [==============================] - 2s 3ms/step\n"
     ]
    }
   ],
   "source": [
    "df_test=pd.read_csv('test.csv')\n",
    "df_test=df_test/255\n",
    "\n",
    "df_test=df_test.values.reshape(-1,28,28)\n",
    "\n",
    "y_pred=model.predict(df_test)\n",
    "\n",
    "\n",
    "y_pred=pd.DataFrame(np.argmax(y_pred,axis=1),columns=['Label'])\n",
    "submission = pd.read_csv(\"sample_submission.csv\")\n",
    "submission[\"Label\"] = y_pred\n",
    "submission.to_csv('submission.csv', index=False)"
   ]
  },
  {
   "cell_type": "code",
   "execution_count": 68,
   "metadata": {},
   "outputs": [
    {
     "name": "stdout",
     "output_type": "stream",
     "text": [
      "Successfully submitted to Digit Recognizer\n"
     ]
    },
    {
     "name": "stderr",
     "output_type": "stream",
     "text": [
      "\n",
      "  0%|          | 0.00/235k [00:00<?, ?B/s]\n",
      "  3%|▎         | 8.00k/235k [00:00<00:02, 79.9kB/s]\n",
      " 88%|████████▊ | 208k/235k [00:00<00:00, 902kB/s]  \n",
      "100%|██████████| 235k/235k [00:01<00:00, 144kB/s]\n"
     ]
    }
   ],
   "source": [
    "!kaggle competitions submit -c digit-recognizer -f submission.csv -m \"\""
   ]
  },
  {
   "cell_type": "code",
   "execution_count": null,
   "metadata": {},
   "outputs": [],
   "source": []
  }
 ],
 "metadata": {
  "kernelspec": {
   "display_name": "Python 3.10.5 64-bit (system)",
   "language": "python",
   "name": "python3"
  },
  "language_info": {
   "codemirror_mode": {
    "name": "ipython",
    "version": 3
   },
   "file_extension": ".py",
   "mimetype": "text/x-python",
   "name": "python",
   "nbconvert_exporter": "python",
   "pygments_lexer": "ipython3",
   "version": "3.10.5"
  },
  "orig_nbformat": 4,
  "vscode": {
   "interpreter": {
    "hash": "a7d98f6a89a2cc2c3b451a8bb432008958aa7c83c5ffc793c3e15255d944d91d"
   }
  }
 },
 "nbformat": 4,
 "nbformat_minor": 2
}
