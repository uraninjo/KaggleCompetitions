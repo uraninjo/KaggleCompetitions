{
 "cells": [
  {
   "cell_type": "code",
   "execution_count": 1,
   "metadata": {},
   "outputs": [],
   "source": [
    "import numpy as np\n",
    "import matplotlib.pyplot as plt\n",
    "import pandas as pd\n",
    "import scipy as sc\n",
    "import seaborn as sbn\n",
    "\n",
    "df=pd.read_csv('trainimp.csv')\n",
    "df_test=pd.read_csv('testimp.csv')"
   ]
  },
  {
   "cell_type": "code",
   "execution_count": 2,
   "metadata": {},
   "outputs": [],
   "source": [
    "X_train = df.drop(\"SalePrice\", axis=1)\n",
    "y_train = df.SalePrice\n",
    "\n",
    "X_test = df_test.copy()"
   ]
  },
  {
   "cell_type": "code",
   "execution_count": 3,
   "metadata": {},
   "outputs": [],
   "source": [
    "from sklearn.preprocessing import StandardScaler\n",
    "scaler = StandardScaler()\n",
    "\n",
    "X_train_scaled = scaler.fit_transform(X_train)\n",
    "X_test_scaled = scaler.transform(X_test)"
   ]
  },
  {
   "cell_type": "code",
   "execution_count": 4,
   "metadata": {},
   "outputs": [],
   "source": [
    "from sklearn.model_selection import cross_validate, GridSearchCV\n",
    "from sklearn.neighbors import KNeighborsRegressor\n",
    "from sklearn.linear_model import LogisticRegression\n",
    "from sklearn.tree import DecisionTreeRegressor\n",
    "from sklearn.ensemble import RandomForestRegressor,GradientBoostingRegressor\n",
    "from sklearn.svm import SVC\n",
    "from sklearn.neural_network import MLPRegressor\n",
    "from sklearn.linear_model import SGDRegressor\n",
    "from sklearn.naive_bayes import GaussianNB\n",
    "from xgboost import XGBRegressor\n",
    "from lightgbm import LGBMRegressor\n",
    "from sklearn.metrics import classification_report, accuracy_score, f1_score, confusion_matrix\n",
    "from catboost import CatBoostRegressor\n"
   ]
  },
  {
   "cell_type": "code",
   "execution_count": 5,
   "metadata": {},
   "outputs": [],
   "source": [
    "## FOR CLASSIFICATION\n",
    "from sklearn.metrics import precision_recall_curve,auc,fbeta_score\n",
    "from sklearn.model_selection import StratifiedKFold\n",
    "\n",
    "\n",
    "def get_scores(model,X,y):\n",
    "  pred=np.round(model.predict(X))\n",
    "  probs=model.predict_proba(X)[:,1]\n",
    "  precision,recall,_=precision_recall_curve(y,probs)\n",
    "  accu=accuracy_score(y,pred)\n",
    "  pr_auc=auc(recall,precision)\n",
    "  f2=fbeta_score(y,pred,beta=2)\n",
    "  return pred,accu,pr_auc,f2\n",
    "\n",
    "\n",
    "#Train model with KFold cross-validation\n",
    "\n",
    "def train_model(model,X,y):\n",
    "  accu_list,pr_auc_list,f2_list=[],[],[]\n",
    "  kf=StratifiedKFold(n_splits=5,shuffle=False)\n",
    "  for train,val in kf.split(X,y):\n",
    "    X_train,y_train=X[train],y[train]\n",
    "    X_val,y_val=X[val],y[val]\n",
    "    model.fit(X_train,y_train)\n",
    "    _,accu,pr_auc,f2=get_scores(model,X_val,y_val)\n",
    "    accu_list.append(accu)\n",
    "    pr_auc_list.append(pr_auc)\n",
    "    f2_list.append(f2)\n",
    "  print(f'Training Accuracy: {np.mean(accu_list):.3f}')\n",
    "  print(f'Training PR_AUC: {np.mean(pr_auc_list):.3f}')\n",
    "  print(f'Training F2: {np.mean(f2_list):.3f}')\n",
    "  return model\n",
    "\n"
   ]
  },
  {
   "cell_type": "code",
   "execution_count": 17,
   "metadata": {},
   "outputs": [
    {
     "ename": "ValueError",
     "evalue": "Setting a random_state has no effect since shuffle is False. You should leave random_state to its default (None), or set shuffle=True.",
     "output_type": "error",
     "traceback": [
      "\u001b[1;31m---------------------------------------------------------------------------\u001b[0m",
      "\u001b[1;31mValueError\u001b[0m                                Traceback (most recent call last)",
      "\u001b[1;32mc:\\Users\\mehmu\\Desktop\\PyProjects\\Projects\\Unlocked\\KaggleComp\\KaggleHouse\\Imputer\\crossValidation.ipynb Hücre 6\u001b[0m in \u001b[0;36m<cell line: 2>\u001b[1;34m()\u001b[0m\n\u001b[0;32m      <a href='vscode-notebook-cell:/c%3A/Users/mehmu/Desktop/PyProjects/Projects/Unlocked/KaggleComp/KaggleHouse/Imputer/crossValidation.ipynb#ch0000005?line=0'>1</a>\u001b[0m \u001b[39mfrom\u001b[39;00m \u001b[39msklearn\u001b[39;00m\u001b[39m.\u001b[39;00m\u001b[39mfeature_selection\u001b[39;00m \u001b[39mimport\u001b[39;00m RFE\n\u001b[1;32m----> <a href='vscode-notebook-cell:/c%3A/Users/mehmu/Desktop/PyProjects/Projects/Unlocked/KaggleComp/KaggleHouse/Imputer/crossValidation.ipynb#ch0000005?line=1'>2</a>\u001b[0m folds \u001b[39m=\u001b[39m StratifiedKFold(n_splits \u001b[39m=\u001b[39;49m \u001b[39m4\u001b[39;49m, random_state \u001b[39m=\u001b[39;49m \u001b[39m42\u001b[39;49m)\n\u001b[0;32m      <a href='vscode-notebook-cell:/c%3A/Users/mehmu/Desktop/PyProjects/Projects/Unlocked/KaggleComp/KaggleHouse/Imputer/crossValidation.ipynb#ch0000005?line=3'>4</a>\u001b[0m \u001b[39m# step-2: specify range of hyperparameters to tune\u001b[39;00m\n\u001b[0;32m      <a href='vscode-notebook-cell:/c%3A/Users/mehmu/Desktop/PyProjects/Projects/Unlocked/KaggleComp/KaggleHouse/Imputer/crossValidation.ipynb#ch0000005?line=4'>5</a>\u001b[0m hyper_params \u001b[39m=\u001b[39m [{\n\u001b[0;32m      <a href='vscode-notebook-cell:/c%3A/Users/mehmu/Desktop/PyProjects/Projects/Unlocked/KaggleComp/KaggleHouse/Imputer/crossValidation.ipynb#ch0000005?line=5'>6</a>\u001b[0m \n\u001b[0;32m      <a href='vscode-notebook-cell:/c%3A/Users/mehmu/Desktop/PyProjects/Projects/Unlocked/KaggleComp/KaggleHouse/Imputer/crossValidation.ipynb#ch0000005?line=6'>7</a>\u001b[0m     \n\u001b[0;32m      <a href='vscode-notebook-cell:/c%3A/Users/mehmu/Desktop/PyProjects/Projects/Unlocked/KaggleComp/KaggleHouse/Imputer/crossValidation.ipynb#ch0000005?line=7'>8</a>\u001b[0m }]\n",
      "File \u001b[1;32mc:\\Users\\mehmu\\Desktop\\PyProjects\\env\\lib\\site-packages\\sklearn\\model_selection\\_split.py:648\u001b[0m, in \u001b[0;36mStratifiedKFold.__init__\u001b[1;34m(self, n_splits, shuffle, random_state)\u001b[0m\n\u001b[0;32m    647\u001b[0m \u001b[39mdef\u001b[39;00m \u001b[39m__init__\u001b[39m(\u001b[39mself\u001b[39m, n_splits\u001b[39m=\u001b[39m\u001b[39m5\u001b[39m, \u001b[39m*\u001b[39m, shuffle\u001b[39m=\u001b[39m\u001b[39mFalse\u001b[39;00m, random_state\u001b[39m=\u001b[39m\u001b[39mNone\u001b[39;00m):\n\u001b[1;32m--> 648\u001b[0m     \u001b[39msuper\u001b[39;49m()\u001b[39m.\u001b[39;49m\u001b[39m__init__\u001b[39;49m(n_splits\u001b[39m=\u001b[39;49mn_splits, shuffle\u001b[39m=\u001b[39;49mshuffle, random_state\u001b[39m=\u001b[39;49mrandom_state)\n",
      "File \u001b[1;32mc:\\Users\\mehmu\\Desktop\\PyProjects\\env\\lib\\site-packages\\sklearn\\model_selection\\_split.py:296\u001b[0m, in \u001b[0;36m_BaseKFold.__init__\u001b[1;34m(self, n_splits, shuffle, random_state)\u001b[0m\n\u001b[0;32m    293\u001b[0m     \u001b[39mraise\u001b[39;00m \u001b[39mTypeError\u001b[39;00m(\u001b[39m\"\u001b[39m\u001b[39mshuffle must be True or False; got \u001b[39m\u001b[39m{0}\u001b[39;00m\u001b[39m\"\u001b[39m\u001b[39m.\u001b[39mformat(shuffle))\n\u001b[0;32m    295\u001b[0m \u001b[39mif\u001b[39;00m \u001b[39mnot\u001b[39;00m shuffle \u001b[39mand\u001b[39;00m random_state \u001b[39mis\u001b[39;00m \u001b[39mnot\u001b[39;00m \u001b[39mNone\u001b[39;00m:  \u001b[39m# None is the default\u001b[39;00m\n\u001b[1;32m--> 296\u001b[0m     \u001b[39mraise\u001b[39;00m \u001b[39mValueError\u001b[39;00m(\n\u001b[0;32m    297\u001b[0m         \u001b[39m\"\u001b[39m\u001b[39mSetting a random_state has no effect since shuffle is \u001b[39m\u001b[39m\"\u001b[39m\n\u001b[0;32m    298\u001b[0m         \u001b[39m\"\u001b[39m\u001b[39mFalse. You should leave \u001b[39m\u001b[39m\"\u001b[39m\n\u001b[0;32m    299\u001b[0m         \u001b[39m\"\u001b[39m\u001b[39mrandom_state to its default (None), or set shuffle=True.\u001b[39m\u001b[39m\"\u001b[39m,\n\u001b[0;32m    300\u001b[0m     )\n\u001b[0;32m    302\u001b[0m \u001b[39mself\u001b[39m\u001b[39m.\u001b[39mn_splits \u001b[39m=\u001b[39m n_splits\n\u001b[0;32m    303\u001b[0m \u001b[39mself\u001b[39m\u001b[39m.\u001b[39mshuffle \u001b[39m=\u001b[39m shuffle\n",
      "\u001b[1;31mValueError\u001b[0m: Setting a random_state has no effect since shuffle is False. You should leave random_state to its default (None), or set shuffle=True."
     ]
    }
   ],
   "source": [
    "from sklearn.feature_selection import RFE\n",
    "folds = StratifiedKFold(n_splits = 5, shuffle = True, random_state = 42)\n",
    "\n",
    "# step-2: specify range of hyperparameters to tune\n",
    "hyper_params = [{\n",
    "\n",
    "    \n",
    "}]\n",
    "\n",
    "\n",
    "# step-3: perform grid search\n",
    "# 3.1 specify model\n",
    "lm = CatBoostRegressor()\n",
    "lm.fit(X_train, y_train)\n",
    "rfe = RFE(lm)             \n",
    "\n",
    "# 3.2 call GridSearchCV()\n",
    "clf = GridSearchCV(estimator = rfe, \n",
    "                        param_grid = hyper_params, \n",
    "                        scoring= 'r2', \n",
    "                        cv = folds, \n",
    "                        verbose = 1,\n",
    "                        return_train_score=True)      \n",
    "\n",
    "# fit the model\n",
    "clf.fit(X_train, y_train)                  "
   ]
  },
  {
   "cell_type": "code",
   "execution_count": 16,
   "metadata": {},
   "outputs": [
    {
     "name": "stderr",
     "output_type": "stream",
     "text": [
      "c:\\Users\\mehmu\\Desktop\\PyProjects\\env\\lib\\site-packages\\sklearn\\base.py:450: UserWarning: X does not have valid feature names, but RFE was fitted with feature names\n",
      "  warnings.warn(\n"
     ]
    }
   ],
   "source": [
    "y_pred = clf.predict(X_test_scaled)\n",
    "submission = pd.read_csv(\"sample_submission.csv\")\n",
    "submission[\"SalePrice\"] = y_pred[:1459]\n",
    "submission.to_csv('submission.csv', index=False)"
   ]
  },
  {
   "cell_type": "code",
   "execution_count": 14,
   "metadata": {},
   "outputs": [
    {
     "name": "stdout",
     "output_type": "stream",
     "text": [
      "Successfully submitted to House Prices - Advanced Regression Techniques\n"
     ]
    },
    {
     "name": "stderr",
     "output_type": "stream",
     "text": [
      "\n",
      "  0%|          | 0.00/34.4k [00:00<?, ?B/s]\n",
      " 23%|██▎       | 8.00k/34.4k [00:00<00:00, 70.8kB/s]\n",
      "100%|██████████| 34.4k/34.4k [00:01<00:00, 21.1kB/s]\n"
     ]
    }
   ],
   "source": [
    "!kaggle competitions submit -c house-prices-advanced-regression-techniques -f submission.csv -m \"\""
   ]
  },
  {
   "cell_type": "code",
   "execution_count": null,
   "metadata": {},
   "outputs": [],
   "source": []
  }
 ],
 "metadata": {
  "kernelspec": {
   "display_name": "Python 3.10.5 64-bit (system)",
   "language": "python",
   "name": "python3"
  },
  "language_info": {
   "codemirror_mode": {
    "name": "ipython",
    "version": 3
   },
   "file_extension": ".py",
   "mimetype": "text/x-python",
   "name": "python",
   "nbconvert_exporter": "python",
   "pygments_lexer": "ipython3",
   "version": "3.10.5"
  },
  "orig_nbformat": 4,
  "vscode": {
   "interpreter": {
    "hash": "a7d98f6a89a2cc2c3b451a8bb432008958aa7c83c5ffc793c3e15255d944d91d"
   }
  }
 },
 "nbformat": 4,
 "nbformat_minor": 2
}
