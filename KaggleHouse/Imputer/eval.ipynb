{
 "cells": [
  {
   "cell_type": "code",
   "execution_count": 1,
   "metadata": {},
   "outputs": [],
   "source": [
    "import numpy as np\n",
    "import matplotlib.pyplot as plt\n",
    "import pandas as pd\n",
    "import scipy as sc\n",
    "import seaborn as sbn\n",
    "\n",
    "df=pd.read_csv('trainimp.csv')\n",
    "df_test=pd.read_csv('testimp.csv')"
   ]
  },
  {
   "cell_type": "code",
   "execution_count": 2,
   "metadata": {},
   "outputs": [],
   "source": [
    "X = df.drop(\"SalePrice\", axis=1)\n",
    "Y = df.SalePrice\n",
    "\n",
    "sub = df_test.copy()"
   ]
  },
  {
   "cell_type": "code",
   "execution_count": 3,
   "metadata": {},
   "outputs": [],
   "source": [
    "from sklearn.preprocessing import StandardScaler\n",
    "scaler = StandardScaler()\n",
    "\n",
    "X = scaler.fit_transform(X)\n",
    "X_sub_scaled = scaler.transform(sub)"
   ]
  },
  {
   "cell_type": "code",
   "execution_count": 4,
   "metadata": {},
   "outputs": [],
   "source": [
    "from sklearn.model_selection import train_test_split\n",
    "\n",
    "X_train, X_val, y_train, y_val = train_test_split(X, Y, test_size=0.33, random_state=42)"
   ]
  },
  {
   "cell_type": "code",
   "execution_count": 19,
   "metadata": {},
   "outputs": [
    {
     "name": "stdout",
     "output_type": "stream",
     "text": [
      "Learning rate set to 0.161422\n",
      "0:\tlearn: 68270.0075644\ttest: 77914.0258646\tbest: 77914.0258646 (0)\ttotal: 3.64ms\tremaining: 543ms\n",
      "1:\tlearn: 62476.3507909\ttest: 72281.4082214\tbest: 72281.4082214 (1)\ttotal: 5.75ms\tremaining: 426ms\n",
      "2:\tlearn: 56746.9950462\ttest: 66224.7617626\tbest: 66224.7617626 (2)\ttotal: 7.65ms\tremaining: 375ms\n",
      "3:\tlearn: 52131.8223634\ttest: 61700.2280005\tbest: 61700.2280005 (3)\ttotal: 9.65ms\tremaining: 352ms\n",
      "4:\tlearn: 47890.9033008\ttest: 57062.1538098\tbest: 57062.1538098 (4)\ttotal: 12.1ms\tremaining: 351ms\n",
      "5:\tlearn: 44589.1144127\ttest: 53958.1326182\tbest: 53958.1326182 (5)\ttotal: 14.2ms\tremaining: 342ms\n",
      "6:\tlearn: 41555.4115165\ttest: 51082.7290408\tbest: 51082.7290408 (6)\ttotal: 16.3ms\tremaining: 334ms\n",
      "7:\tlearn: 38770.0118644\ttest: 47990.6887675\tbest: 47990.6887675 (7)\ttotal: 19.4ms\tremaining: 344ms\n",
      "8:\tlearn: 36801.8481918\ttest: 45831.5165803\tbest: 45831.5165803 (8)\ttotal: 21.4ms\tremaining: 335ms\n",
      "9:\tlearn: 35204.6675572\ttest: 44519.0572336\tbest: 44519.0572336 (9)\ttotal: 23.2ms\tremaining: 325ms\n",
      "10:\tlearn: 33377.5581645\ttest: 42595.6837837\tbest: 42595.6837837 (10)\ttotal: 25.2ms\tremaining: 319ms\n",
      "11:\tlearn: 31969.7838652\ttest: 41887.4378912\tbest: 41887.4378912 (11)\ttotal: 27.3ms\tremaining: 314ms\n",
      "12:\tlearn: 30646.4561599\ttest: 40226.1852105\tbest: 40226.1852105 (12)\ttotal: 29.5ms\tremaining: 311ms\n",
      "13:\tlearn: 29287.1787788\ttest: 39062.4834227\tbest: 39062.4834227 (13)\ttotal: 31.7ms\tremaining: 308ms\n",
      "14:\tlearn: 28263.3987504\ttest: 38336.2646505\tbest: 38336.2646505 (14)\ttotal: 34.6ms\tremaining: 312ms\n",
      "15:\tlearn: 27311.1773699\ttest: 37292.5004995\tbest: 37292.5004995 (15)\ttotal: 36.5ms\tremaining: 306ms\n",
      "16:\tlearn: 26545.3136574\ttest: 36808.0151648\tbest: 36808.0151648 (16)\ttotal: 38.6ms\tremaining: 302ms\n",
      "17:\tlearn: 25971.4543385\ttest: 36641.3461656\tbest: 36641.3461656 (17)\ttotal: 40.6ms\tremaining: 297ms\n",
      "18:\tlearn: 25209.7662082\ttest: 36061.0595921\tbest: 36061.0595921 (18)\ttotal: 42.9ms\tremaining: 296ms\n",
      "19:\tlearn: 24530.6795320\ttest: 35547.5413273\tbest: 35547.5413273 (19)\ttotal: 45.6ms\tremaining: 297ms\n",
      "20:\tlearn: 24105.5014809\ttest: 35297.9162350\tbest: 35297.9162350 (20)\ttotal: 48.7ms\tremaining: 299ms\n",
      "21:\tlearn: 23734.6025114\ttest: 35149.1684841\tbest: 35149.1684841 (21)\ttotal: 52.5ms\tremaining: 305ms\n",
      "22:\tlearn: 23234.4096168\ttest: 34820.7690616\tbest: 34820.7690616 (22)\ttotal: 55.4ms\tremaining: 306ms\n",
      "23:\tlearn: 23045.0674110\ttest: 34699.4470432\tbest: 34699.4470432 (23)\ttotal: 58.5ms\tremaining: 307ms\n",
      "24:\tlearn: 22955.9692593\ttest: 34689.2820805\tbest: 34689.2820805 (24)\ttotal: 61.3ms\tremaining: 306ms\n",
      "25:\tlearn: 22471.9442579\ttest: 34487.5674057\tbest: 34487.5674057 (25)\ttotal: 63.5ms\tremaining: 303ms\n",
      "26:\tlearn: 22045.0598715\ttest: 34305.5895538\tbest: 34305.5895538 (26)\ttotal: 66.3ms\tremaining: 302ms\n",
      "27:\tlearn: 21634.8095828\ttest: 34070.4273462\tbest: 34070.4273462 (27)\ttotal: 68.3ms\tremaining: 298ms\n",
      "28:\tlearn: 21373.9337608\ttest: 33830.0282380\tbest: 33830.0282380 (28)\ttotal: 70.5ms\tremaining: 294ms\n",
      "29:\tlearn: 21098.0224131\ttest: 33650.3371167\tbest: 33650.3371167 (29)\ttotal: 72.7ms\tremaining: 291ms\n",
      "30:\tlearn: 20774.4292965\ttest: 33488.9713994\tbest: 33488.9713994 (30)\ttotal: 75ms\tremaining: 288ms\n",
      "31:\tlearn: 20500.7890067\ttest: 33375.0046480\tbest: 33375.0046480 (31)\ttotal: 77.2ms\tremaining: 285ms\n",
      "32:\tlearn: 20254.0004927\ttest: 33272.1877897\tbest: 33272.1877897 (32)\ttotal: 79.5ms\tremaining: 282ms\n",
      "33:\tlearn: 20118.2625580\ttest: 33196.0163008\tbest: 33196.0163008 (33)\ttotal: 82.3ms\tremaining: 281ms\n",
      "34:\tlearn: 20075.0147109\ttest: 33165.8983770\tbest: 33165.8983770 (34)\ttotal: 83.8ms\tremaining: 275ms\n",
      "35:\tlearn: 19817.3466791\ttest: 33088.2819461\tbest: 33088.2819461 (35)\ttotal: 86.2ms\tremaining: 273ms\n",
      "36:\tlearn: 19768.7111971\ttest: 33148.4490450\tbest: 33088.2819461 (35)\ttotal: 88.3ms\tremaining: 270ms\n",
      "37:\tlearn: 19536.0478772\ttest: 33233.4819140\tbest: 33088.2819461 (35)\ttotal: 90.6ms\tremaining: 267ms\n",
      "38:\tlearn: 19310.4046565\ttest: 33201.1232435\tbest: 33088.2819461 (35)\ttotal: 92.7ms\tremaining: 264ms\n",
      "39:\tlearn: 19038.6913236\ttest: 33000.4895835\tbest: 33000.4895835 (39)\ttotal: 95.1ms\tremaining: 262ms\n",
      "40:\tlearn: 18858.9214434\ttest: 33088.8911913\tbest: 33000.4895835 (39)\ttotal: 97.4ms\tremaining: 259ms\n",
      "41:\tlearn: 18682.5886071\ttest: 33047.3912966\tbest: 33000.4895835 (39)\ttotal: 99.3ms\tremaining: 255ms\n",
      "42:\tlearn: 18491.1741894\ttest: 32950.8577043\tbest: 32950.8577043 (42)\ttotal: 101ms\tremaining: 252ms\n",
      "43:\tlearn: 18452.7297461\ttest: 32950.3286651\tbest: 32950.3286651 (43)\ttotal: 103ms\tremaining: 249ms\n",
      "44:\tlearn: 18304.4307402\ttest: 32967.8405792\tbest: 32950.3286651 (43)\ttotal: 105ms\tremaining: 245ms\n",
      "45:\tlearn: 18194.3513953\ttest: 32833.5955449\tbest: 32833.5955449 (45)\ttotal: 108ms\tremaining: 243ms\n",
      "46:\tlearn: 18053.9969246\ttest: 32789.3128603\tbest: 32789.3128603 (46)\ttotal: 110ms\tremaining: 240ms\n",
      "47:\tlearn: 17903.8333774\ttest: 32811.7409769\tbest: 32789.3128603 (46)\ttotal: 112ms\tremaining: 239ms\n",
      "48:\tlearn: 17837.6091968\ttest: 32769.1398328\tbest: 32769.1398328 (48)\ttotal: 115ms\tremaining: 237ms\n",
      "49:\tlearn: 17800.4464188\ttest: 32785.9933197\tbest: 32769.1398328 (48)\ttotal: 117ms\tremaining: 234ms\n",
      "50:\tlearn: 17595.5717008\ttest: 32687.5427287\tbest: 32687.5427287 (50)\ttotal: 119ms\tremaining: 231ms\n",
      "51:\tlearn: 17387.9948181\ttest: 32698.1255690\tbest: 32687.5427287 (50)\ttotal: 122ms\tremaining: 230ms\n",
      "52:\tlearn: 17188.1107443\ttest: 32680.2592956\tbest: 32680.2592956 (52)\ttotal: 125ms\tremaining: 229ms\n",
      "53:\tlearn: 17010.5515375\ttest: 32655.2586085\tbest: 32655.2586085 (53)\ttotal: 127ms\tremaining: 227ms\n",
      "54:\tlearn: 16833.7269166\ttest: 32610.4506271\tbest: 32610.4506271 (54)\ttotal: 130ms\tremaining: 225ms\n",
      "55:\tlearn: 16704.5858511\ttest: 32557.4876429\tbest: 32557.4876429 (55)\ttotal: 133ms\tremaining: 222ms\n",
      "56:\tlearn: 16672.1615494\ttest: 32522.8459861\tbest: 32522.8459861 (56)\ttotal: 134ms\tremaining: 219ms\n",
      "57:\tlearn: 16631.3223757\ttest: 32511.2844394\tbest: 32511.2844394 (57)\ttotal: 136ms\tremaining: 216ms\n",
      "58:\tlearn: 16439.0698275\ttest: 32472.3517148\tbest: 32472.3517148 (58)\ttotal: 139ms\tremaining: 214ms\n",
      "59:\tlearn: 16404.6057542\ttest: 32433.2039325\tbest: 32433.2039325 (59)\ttotal: 141ms\tremaining: 212ms\n",
      "60:\tlearn: 16099.6901850\ttest: 32296.5983760\tbest: 32296.5983760 (60)\ttotal: 144ms\tremaining: 211ms\n",
      "61:\tlearn: 15848.8094311\ttest: 32213.7907472\tbest: 32213.7907472 (61)\ttotal: 153ms\tremaining: 216ms\n",
      "62:\tlearn: 15701.1382056\ttest: 32219.5393812\tbest: 32213.7907472 (61)\ttotal: 155ms\tremaining: 214ms\n",
      "63:\tlearn: 15530.3595702\ttest: 32303.2314289\tbest: 32213.7907472 (61)\ttotal: 157ms\tremaining: 211ms\n",
      "64:\tlearn: 15381.0145891\ttest: 32300.2496267\tbest: 32213.7907472 (61)\ttotal: 159ms\tremaining: 208ms\n",
      "65:\tlearn: 15252.6889590\ttest: 32318.6037761\tbest: 32213.7907472 (61)\ttotal: 161ms\tremaining: 205ms\n",
      "66:\tlearn: 15072.8358780\ttest: 32225.2169447\tbest: 32213.7907472 (61)\ttotal: 163ms\tremaining: 202ms\n",
      "67:\tlearn: 15056.4553891\ttest: 32191.0579292\tbest: 32191.0579292 (67)\ttotal: 165ms\tremaining: 199ms\n",
      "68:\tlearn: 15032.6069858\ttest: 32152.0155980\tbest: 32152.0155980 (68)\ttotal: 166ms\tremaining: 195ms\n",
      "69:\tlearn: 14834.1660398\ttest: 32227.6961146\tbest: 32152.0155980 (68)\ttotal: 168ms\tremaining: 192ms\n",
      "70:\tlearn: 14630.4436503\ttest: 32216.6087351\tbest: 32152.0155980 (68)\ttotal: 170ms\tremaining: 190ms\n",
      "71:\tlearn: 14404.6089890\ttest: 32227.4225071\tbest: 32152.0155980 (68)\ttotal: 173ms\tremaining: 187ms\n",
      "72:\tlearn: 14380.0869663\ttest: 32179.7636407\tbest: 32152.0155980 (68)\ttotal: 175ms\tremaining: 185ms\n",
      "73:\tlearn: 14244.4256971\ttest: 32162.6433526\tbest: 32152.0155980 (68)\ttotal: 177ms\tremaining: 182ms\n",
      "74:\tlearn: 14146.0033584\ttest: 32160.8109445\tbest: 32152.0155980 (68)\ttotal: 179ms\tremaining: 179ms\n",
      "75:\tlearn: 14020.3386449\ttest: 32199.4203556\tbest: 32152.0155980 (68)\ttotal: 181ms\tremaining: 176ms\n",
      "76:\tlearn: 13899.2610368\ttest: 32187.6392935\tbest: 32152.0155980 (68)\ttotal: 182ms\tremaining: 173ms\n",
      "77:\tlearn: 13775.6990179\ttest: 32232.9795240\tbest: 32152.0155980 (68)\ttotal: 184ms\tremaining: 170ms\n",
      "78:\tlearn: 13763.7894833\ttest: 32201.5359900\tbest: 32152.0155980 (68)\ttotal: 186ms\tremaining: 167ms\n",
      "79:\tlearn: 13629.3158186\ttest: 32134.4352827\tbest: 32134.4352827 (79)\ttotal: 189ms\tremaining: 165ms\n",
      "80:\tlearn: 13509.3832141\ttest: 32104.7600693\tbest: 32104.7600693 (80)\ttotal: 191ms\tremaining: 162ms\n",
      "81:\tlearn: 13441.0318516\ttest: 32065.1095100\tbest: 32065.1095100 (81)\ttotal: 192ms\tremaining: 160ms\n",
      "82:\tlearn: 13341.8494293\ttest: 32061.2005787\tbest: 32061.2005787 (82)\ttotal: 194ms\tremaining: 157ms\n",
      "83:\tlearn: 13323.3486161\ttest: 32075.9021055\tbest: 32061.2005787 (82)\ttotal: 196ms\tremaining: 154ms\n",
      "84:\tlearn: 13186.7427919\ttest: 32115.2853725\tbest: 32061.2005787 (82)\ttotal: 198ms\tremaining: 152ms\n",
      "85:\tlearn: 13035.5162912\ttest: 32077.3453952\tbest: 32061.2005787 (82)\ttotal: 200ms\tremaining: 149ms\n",
      "86:\tlearn: 12924.0457410\ttest: 32084.5179899\tbest: 32061.2005787 (82)\ttotal: 202ms\tremaining: 147ms\n",
      "87:\tlearn: 12816.2547991\ttest: 32063.9210132\tbest: 32061.2005787 (82)\ttotal: 204ms\tremaining: 144ms\n",
      "88:\tlearn: 12788.9354272\ttest: 32083.6371119\tbest: 32061.2005787 (82)\ttotal: 206ms\tremaining: 141ms\n",
      "89:\tlearn: 12691.6693530\ttest: 32152.0122696\tbest: 32061.2005787 (82)\ttotal: 208ms\tremaining: 139ms\n",
      "90:\tlearn: 12595.7296398\ttest: 32130.6500416\tbest: 32061.2005787 (82)\ttotal: 210ms\tremaining: 136ms\n",
      "91:\tlearn: 12464.8469363\ttest: 32148.0229707\tbest: 32061.2005787 (82)\ttotal: 212ms\tremaining: 134ms\n",
      "92:\tlearn: 12397.6734839\ttest: 32135.4970388\tbest: 32061.2005787 (82)\ttotal: 214ms\tremaining: 131ms\n",
      "93:\tlearn: 12273.9748974\ttest: 32147.2432614\tbest: 32061.2005787 (82)\ttotal: 226ms\tremaining: 134ms\n",
      "94:\tlearn: 12147.9449426\ttest: 32097.5742055\tbest: 32061.2005787 (82)\ttotal: 228ms\tremaining: 132ms\n",
      "95:\tlearn: 12067.9844256\ttest: 32055.7058894\tbest: 32055.7058894 (95)\ttotal: 231ms\tremaining: 130ms\n",
      "96:\tlearn: 11952.0358834\ttest: 32049.2849719\tbest: 32049.2849719 (96)\ttotal: 234ms\tremaining: 128ms\n",
      "97:\tlearn: 11942.3086683\ttest: 32049.8959538\tbest: 32049.2849719 (96)\ttotal: 236ms\tremaining: 125ms\n",
      "98:\tlearn: 11841.8656157\ttest: 32024.0505227\tbest: 32024.0505227 (98)\ttotal: 238ms\tremaining: 123ms\n",
      "99:\tlearn: 11832.6484260\ttest: 32025.1905039\tbest: 32024.0505227 (98)\ttotal: 240ms\tremaining: 120ms\n",
      "100:\tlearn: 11724.5291086\ttest: 32039.6651872\tbest: 32024.0505227 (98)\ttotal: 243ms\tremaining: 118ms\n",
      "101:\tlearn: 11599.3712801\ttest: 31998.8256196\tbest: 31998.8256196 (101)\ttotal: 246ms\tremaining: 116ms\n",
      "102:\tlearn: 11506.7200402\ttest: 31979.4197017\tbest: 31979.4197017 (102)\ttotal: 249ms\tremaining: 114ms\n",
      "103:\tlearn: 11434.7470663\ttest: 31961.6146620\tbest: 31961.6146620 (103)\ttotal: 252ms\tremaining: 111ms\n",
      "104:\tlearn: 11382.4881799\ttest: 31929.6346598\tbest: 31929.6346598 (104)\ttotal: 255ms\tremaining: 109ms\n",
      "105:\tlearn: 11286.2135293\ttest: 31906.0844802\tbest: 31906.0844802 (105)\ttotal: 257ms\tremaining: 107ms\n",
      "106:\tlearn: 11216.3860187\ttest: 31872.8445494\tbest: 31872.8445494 (106)\ttotal: 259ms\tremaining: 104ms\n",
      "107:\tlearn: 11144.5932165\ttest: 31872.3014168\tbest: 31872.3014168 (107)\ttotal: 261ms\tremaining: 102ms\n",
      "108:\tlearn: 11137.2181009\ttest: 31873.3638635\tbest: 31872.3014168 (107)\ttotal: 264ms\tremaining: 99.4ms\n",
      "109:\tlearn: 11028.4157558\ttest: 31852.5096982\tbest: 31852.5096982 (109)\ttotal: 267ms\tremaining: 97.2ms\n",
      "110:\tlearn: 11022.4090815\ttest: 31837.0717140\tbest: 31837.0717140 (110)\ttotal: 271ms\tremaining: 95.2ms\n",
      "111:\tlearn: 10933.9609498\ttest: 31781.3572727\tbest: 31781.3572727 (111)\ttotal: 273ms\tremaining: 92.7ms\n",
      "112:\tlearn: 10871.8073152\ttest: 31779.7955886\tbest: 31779.7955886 (112)\ttotal: 275ms\tremaining: 90.2ms\n",
      "113:\tlearn: 10863.3423299\ttest: 31788.3978515\tbest: 31779.7955886 (112)\ttotal: 278ms\tremaining: 87.7ms\n",
      "114:\tlearn: 10778.0730294\ttest: 31743.7905974\tbest: 31743.7905974 (114)\ttotal: 280ms\tremaining: 85.3ms\n",
      "115:\tlearn: 10712.1939160\ttest: 31739.1146363\tbest: 31739.1146363 (115)\ttotal: 283ms\tremaining: 82.8ms\n",
      "116:\tlearn: 10646.4941911\ttest: 31713.8865030\tbest: 31713.8865030 (116)\ttotal: 285ms\tremaining: 80.4ms\n",
      "117:\tlearn: 10601.7323165\ttest: 31717.4126956\tbest: 31713.8865030 (116)\ttotal: 287ms\tremaining: 77.9ms\n",
      "118:\tlearn: 10505.7347323\ttest: 31670.1800179\tbest: 31670.1800179 (118)\ttotal: 289ms\tremaining: 75.4ms\n",
      "119:\tlearn: 10429.4419206\ttest: 31664.2566760\tbest: 31664.2566760 (119)\ttotal: 291ms\tremaining: 72.8ms\n",
      "120:\tlearn: 10403.3566005\ttest: 31655.2120418\tbest: 31655.2120418 (120)\ttotal: 293ms\tremaining: 70.3ms\n",
      "121:\tlearn: 10283.6475326\ttest: 31668.6078160\tbest: 31655.2120418 (120)\ttotal: 295ms\tremaining: 67.8ms\n",
      "122:\tlearn: 10178.0941097\ttest: 31684.7724843\tbest: 31655.2120418 (120)\ttotal: 297ms\tremaining: 65.3ms\n",
      "123:\tlearn: 10123.8112005\ttest: 31651.2633661\tbest: 31651.2633661 (123)\ttotal: 300ms\tremaining: 62.8ms\n",
      "124:\tlearn: 10114.4202810\ttest: 31641.5260047\tbest: 31641.5260047 (124)\ttotal: 302ms\tremaining: 60.4ms\n",
      "125:\tlearn: 10021.2666610\ttest: 31666.7240839\tbest: 31641.5260047 (124)\ttotal: 304ms\tremaining: 57.9ms\n",
      "126:\tlearn: 9953.5054288\ttest: 31679.6753187\tbest: 31641.5260047 (124)\ttotal: 306ms\tremaining: 55.3ms\n",
      "127:\tlearn: 9918.4672999\ttest: 31674.9734789\tbest: 31641.5260047 (124)\ttotal: 307ms\tremaining: 52.8ms\n",
      "128:\tlearn: 9867.2566208\ttest: 31675.5037193\tbest: 31641.5260047 (124)\ttotal: 309ms\tremaining: 50.3ms\n",
      "129:\tlearn: 9805.3776956\ttest: 31681.5023550\tbest: 31641.5260047 (124)\ttotal: 311ms\tremaining: 47.8ms\n",
      "130:\tlearn: 9795.8540500\ttest: 31679.1928046\tbest: 31641.5260047 (124)\ttotal: 313ms\tremaining: 45.4ms\n",
      "131:\tlearn: 9690.6535595\ttest: 31733.3801177\tbest: 31641.5260047 (124)\ttotal: 315ms\tremaining: 42.9ms\n",
      "132:\tlearn: 9685.3627321\ttest: 31721.2102187\tbest: 31641.5260047 (124)\ttotal: 317ms\tremaining: 40.6ms\n",
      "133:\tlearn: 9639.8195271\ttest: 31717.6003766\tbest: 31641.5260047 (124)\ttotal: 319ms\tremaining: 38.1ms\n",
      "134:\tlearn: 9599.9506831\ttest: 31719.2498017\tbest: 31641.5260047 (124)\ttotal: 321ms\tremaining: 35.7ms\n",
      "135:\tlearn: 9565.5684371\ttest: 31712.8131598\tbest: 31641.5260047 (124)\ttotal: 323ms\tremaining: 33.2ms\n",
      "136:\tlearn: 9471.9272451\ttest: 31739.0474325\tbest: 31641.5260047 (124)\ttotal: 325ms\tremaining: 30.8ms\n",
      "137:\tlearn: 9381.1409865\ttest: 31745.3847049\tbest: 31641.5260047 (124)\ttotal: 326ms\tremaining: 28.4ms\n",
      "138:\tlearn: 9332.9780788\ttest: 31741.4000345\tbest: 31641.5260047 (124)\ttotal: 328ms\tremaining: 26ms\n",
      "139:\tlearn: 9268.2988303\ttest: 31726.1961067\tbest: 31641.5260047 (124)\ttotal: 330ms\tremaining: 23.6ms\n",
      "140:\tlearn: 9213.3159661\ttest: 31712.8117635\tbest: 31641.5260047 (124)\ttotal: 333ms\tremaining: 21.2ms\n",
      "141:\tlearn: 9130.0798807\ttest: 31739.8801963\tbest: 31641.5260047 (124)\ttotal: 335ms\tremaining: 18.9ms\n",
      "142:\tlearn: 9095.4950112\ttest: 31740.8458293\tbest: 31641.5260047 (124)\ttotal: 336ms\tremaining: 16.5ms\n",
      "143:\tlearn: 9035.0764019\ttest: 31713.9489162\tbest: 31641.5260047 (124)\ttotal: 338ms\tremaining: 14.1ms\n",
      "144:\tlearn: 8965.3867589\ttest: 31701.9384614\tbest: 31641.5260047 (124)\ttotal: 340ms\tremaining: 11.7ms\n",
      "145:\tlearn: 8957.7551701\ttest: 31703.8507527\tbest: 31641.5260047 (124)\ttotal: 342ms\tremaining: 9.37ms\n",
      "146:\tlearn: 8860.6681582\ttest: 31693.6816969\tbest: 31641.5260047 (124)\ttotal: 344ms\tremaining: 7.02ms\n",
      "147:\tlearn: 8801.9732662\ttest: 31687.2111767\tbest: 31641.5260047 (124)\ttotal: 346ms\tremaining: 4.68ms\n",
      "148:\tlearn: 8740.0376843\ttest: 31667.2961462\tbest: 31641.5260047 (124)\ttotal: 348ms\tremaining: 2.34ms\n",
      "149:\tlearn: 8708.2161735\ttest: 31661.4247998\tbest: 31641.5260047 (124)\ttotal: 350ms\tremaining: 0us\n",
      "\n",
      "bestTest = 31641.526\n",
      "bestIteration = 124\n",
      "\n",
      "Shrink model to first 125 iterations.\n"
     ]
    }
   ],
   "source": [
    "from catboost import CatBoostRegressor\n",
    "\n",
    "clf=CatBoostRegressor(n_estimators=150).fit(X_train,y_train,eval_set=(X_val,y_val))"
   ]
  },
  {
   "cell_type": "code",
   "execution_count": 20,
   "metadata": {},
   "outputs": [],
   "source": [
    "y_pred = clf.predict(X_sub_scaled)\n",
    "submission = pd.read_csv(\"sample_submission.csv\")\n",
    "submission[\"SalePrice\"] = y_pred[:1459]\n",
    "submission.to_csv('submission.csv', index=False)"
   ]
  },
  {
   "cell_type": "code",
   "execution_count": 21,
   "metadata": {},
   "outputs": [
    {
     "name": "stdout",
     "output_type": "stream",
     "text": [
      "400 - Bad Request\n"
     ]
    },
    {
     "name": "stderr",
     "output_type": "stream",
     "text": [
      "\n",
      "  0%|          | 0.00/35.1k [00:00<?, ?B/s]\n",
      " 23%|██▎       | 8.00k/35.1k [00:00<00:00, 68.4kB/s]\n",
      "100%|██████████| 35.1k/35.1k [00:01<00:00, 20.7kB/s]\n"
     ]
    }
   ],
   "source": [
    "!kaggle competitions submit -c house-prices-advanced-regression-techniques -f submission.csv -m \"\""
   ]
  },
  {
   "cell_type": "code",
   "execution_count": null,
   "metadata": {},
   "outputs": [],
   "source": []
  }
 ],
 "metadata": {
  "kernelspec": {
   "display_name": "Python 3.10.5 64-bit (system)",
   "language": "python",
   "name": "python3"
  },
  "language_info": {
   "codemirror_mode": {
    "name": "ipython",
    "version": 3
   },
   "file_extension": ".py",
   "mimetype": "text/x-python",
   "name": "python",
   "nbconvert_exporter": "python",
   "pygments_lexer": "ipython3",
   "version": "3.10.5"
  },
  "orig_nbformat": 4,
  "vscode": {
   "interpreter": {
    "hash": "a7d98f6a89a2cc2c3b451a8bb432008958aa7c83c5ffc793c3e15255d944d91d"
   }
  }
 },
 "nbformat": 4,
 "nbformat_minor": 2
}
